{
 "cells": [
  {
   "cell_type": "code",
   "execution_count": 228,
   "id": "bb18418ac776f16d",
   "metadata": {
    "ExecuteTime": {
     "end_time": "2024-11-12T14:18:05.908086Z",
     "start_time": "2024-11-12T14:18:05.903975Z"
    }
   },
   "outputs": [],
   "source": [
    "import pandas as pd\n",
    "import collections\n",
    "import digitalhub as dh\n",
    "from datasets_tourism_dh import *"
   ]
  },
  {
   "cell_type": "raw",
   "id": "e5dca395-6d2f-4611-9b2c-bb2d4d8a0e1b",
   "metadata": {
    "ExecuteTime": {
     "end_time": "2024-11-12T14:18:06.372516Z",
     "start_time": "2024-11-12T14:18:05.917240Z"
    }
   },
   "source": [
    "vodafone_attendences_df = pd.read_parquet(\"../experiments/datasets/vodafone/vodafone_attendences.parquet\", engine='pyarrow')\n",
    "vodafone_attendences_df"
   ]
  },
  {
   "cell_type": "code",
   "execution_count": 229,
   "id": "23d51c5da02c574a",
   "metadata": {
    "ExecuteTime": {
     "end_time": "2024-11-12T14:18:06.376532Z",
     "start_time": "2024-11-12T14:18:06.374134Z"
    }
   },
   "outputs": [],
   "source": [
    "START_DATE = \"2023-07-01\"\n",
    "END_DATE = \"2023-09-30\"\n",
    "\n",
    "LOC_ID_COMUNE_MOLVENO = \"27\"\n",
    "LOC_TYPE_COMUNE_MOLVENO = \"TN_MKT_AL_3\""
   ]
  },
  {
   "cell_type": "code",
   "execution_count": 230,
   "id": "68e141fc2f0628ab",
   "metadata": {
    "ExecuteTime": {
     "end_time": "2024-11-12T14:18:07.748881Z",
     "start_time": "2024-11-12T14:18:06.377506Z"
    }
   },
   "outputs": [
    {
     "data": {
      "text/html": [
       "<div>\n",
       "<style scoped>\n",
       "    .dataframe tbody tr th:only-of-type {\n",
       "        vertical-align: middle;\n",
       "    }\n",
       "\n",
       "    .dataframe tbody tr th {\n",
       "        vertical-align: top;\n",
       "    }\n",
       "\n",
       "    .dataframe thead th {\n",
       "        text-align: right;\n",
       "    }\n",
       "</style>\n",
       "<table border=\"1\" class=\"dataframe\">\n",
       "  <thead>\n",
       "    <tr style=\"text-align: right;\">\n",
       "      <th></th>\n",
       "      <th>date</th>\n",
       "      <th>userProfile</th>\n",
       "      <th>value</th>\n",
       "    </tr>\n",
       "  </thead>\n",
       "  <tbody>\n",
       "    <tr>\n",
       "      <th>2977735</th>\n",
       "      <td>2023-07-01</td>\n",
       "      <td>TOURIST</td>\n",
       "      <td>18</td>\n",
       "    </tr>\n",
       "    <tr>\n",
       "      <th>2977736</th>\n",
       "      <td>2023-07-01</td>\n",
       "      <td>VISITOR</td>\n",
       "      <td>18</td>\n",
       "    </tr>\n",
       "    <tr>\n",
       "      <th>2977744</th>\n",
       "      <td>2023-07-01</td>\n",
       "      <td>TOURIST</td>\n",
       "      <td>108</td>\n",
       "    </tr>\n",
       "    <tr>\n",
       "      <th>2977745</th>\n",
       "      <td>2023-07-01</td>\n",
       "      <td>VISITOR</td>\n",
       "      <td>36</td>\n",
       "    </tr>\n",
       "    <tr>\n",
       "      <th>2977746</th>\n",
       "      <td>2023-07-01</td>\n",
       "      <td>TOURIST</td>\n",
       "      <td>216</td>\n",
       "    </tr>\n",
       "    <tr>\n",
       "      <th>...</th>\n",
       "      <td>...</td>\n",
       "      <td>...</td>\n",
       "      <td>...</td>\n",
       "    </tr>\n",
       "    <tr>\n",
       "      <th>3619685</th>\n",
       "      <td>2023-09-30</td>\n",
       "      <td>TOURIST</td>\n",
       "      <td>929</td>\n",
       "    </tr>\n",
       "    <tr>\n",
       "      <th>3619686</th>\n",
       "      <td>2023-09-30</td>\n",
       "      <td>VISITOR</td>\n",
       "      <td>1358</td>\n",
       "    </tr>\n",
       "    <tr>\n",
       "      <th>3619697</th>\n",
       "      <td>2023-09-30</td>\n",
       "      <td>TOURIST</td>\n",
       "      <td>25</td>\n",
       "    </tr>\n",
       "    <tr>\n",
       "      <th>3619698</th>\n",
       "      <td>2023-09-30</td>\n",
       "      <td>VISITOR</td>\n",
       "      <td>25</td>\n",
       "    </tr>\n",
       "    <tr>\n",
       "      <th>3619699</th>\n",
       "      <td>2023-09-30</td>\n",
       "      <td>TOURIST</td>\n",
       "      <td>22</td>\n",
       "    </tr>\n",
       "  </tbody>\n",
       "</table>\n",
       "<p>1546 rows × 3 columns</p>\n",
       "</div>"
      ],
      "text/plain": [
       "               date userProfile  value\n",
       "2977735  2023-07-01     TOURIST     18\n",
       "2977736  2023-07-01     VISITOR     18\n",
       "2977744  2023-07-01     TOURIST    108\n",
       "2977745  2023-07-01     VISITOR     36\n",
       "2977746  2023-07-01     TOURIST    216\n",
       "...             ...         ...    ...\n",
       "3619685  2023-09-30     TOURIST    929\n",
       "3619686  2023-09-30     VISITOR   1358\n",
       "3619697  2023-09-30     TOURIST     25\n",
       "3619698  2023-09-30     VISITOR     25\n",
       "3619699  2023-09-30     TOURIST     22\n",
       "\n",
       "[1546 rows x 3 columns]"
      ]
     },
     "execution_count": 230,
     "metadata": {},
     "output_type": "execute_result"
    }
   ],
   "source": [
    "attendences_df = vodafone_attendences_df[\n",
    "    (vodafone_attendences_df['date'] >= START_DATE) &\n",
    "    (vodafone_attendences_df['date'] <= END_DATE) &\n",
    "    (vodafone_attendences_df[\"value\"] != 0) &\n",
    "    (vodafone_attendences_df[\"userProfile\"] != 'INHABITANT') &\n",
    "    (vodafone_attendences_df[\"userProfile\"] != 'COMMUTER') &\n",
    "    (vodafone_attendences_df[\"locId\"] == LOC_ID_COMUNE_MOLVENO) &\n",
    "    (vodafone_attendences_df[\"locType\"] == LOC_TYPE_COMUNE_MOLVENO) ]\n",
    "attendences_df = attendences_df[['date','userProfile','value']]\n",
    "attendences_df"
   ]
  },
  {
   "cell_type": "code",
   "execution_count": 231,
   "id": "b5237c542a2c8e0",
   "metadata": {
    "ExecuteTime": {
     "end_time": "2024-11-12T14:18:07.761030Z",
     "start_time": "2024-11-12T14:18:07.750208Z"
    }
   },
   "outputs": [
    {
     "data": {
      "text/html": [
       "<div>\n",
       "<style scoped>\n",
       "    .dataframe tbody tr th:only-of-type {\n",
       "        vertical-align: middle;\n",
       "    }\n",
       "\n",
       "    .dataframe tbody tr th {\n",
       "        vertical-align: top;\n",
       "    }\n",
       "\n",
       "    .dataframe thead th {\n",
       "        text-align: right;\n",
       "    }\n",
       "</style>\n",
       "<table border=\"1\" class=\"dataframe\">\n",
       "  <thead>\n",
       "    <tr style=\"text-align: right;\">\n",
       "      <th></th>\n",
       "      <th>value</th>\n",
       "      <th>weakday</th>\n",
       "    </tr>\n",
       "    <tr>\n",
       "      <th>date</th>\n",
       "      <th></th>\n",
       "      <th></th>\n",
       "    </tr>\n",
       "  </thead>\n",
       "  <tbody>\n",
       "    <tr>\n",
       "      <th>2023-07-01</th>\n",
       "      <td>2924</td>\n",
       "      <td>5</td>\n",
       "    </tr>\n",
       "    <tr>\n",
       "      <th>2023-07-02</th>\n",
       "      <td>2987</td>\n",
       "      <td>6</td>\n",
       "    </tr>\n",
       "    <tr>\n",
       "      <th>2023-07-03</th>\n",
       "      <td>2544</td>\n",
       "      <td>0</td>\n",
       "    </tr>\n",
       "    <tr>\n",
       "      <th>2023-07-04</th>\n",
       "      <td>2547</td>\n",
       "      <td>1</td>\n",
       "    </tr>\n",
       "    <tr>\n",
       "      <th>2023-07-05</th>\n",
       "      <td>2762</td>\n",
       "      <td>2</td>\n",
       "    </tr>\n",
       "    <tr>\n",
       "      <th>...</th>\n",
       "      <td>...</td>\n",
       "      <td>...</td>\n",
       "    </tr>\n",
       "    <tr>\n",
       "      <th>2023-09-26</th>\n",
       "      <td>1183</td>\n",
       "      <td>1</td>\n",
       "    </tr>\n",
       "    <tr>\n",
       "      <th>2023-09-27</th>\n",
       "      <td>1070</td>\n",
       "      <td>2</td>\n",
       "    </tr>\n",
       "    <tr>\n",
       "      <th>2023-09-28</th>\n",
       "      <td>1083</td>\n",
       "      <td>3</td>\n",
       "    </tr>\n",
       "    <tr>\n",
       "      <th>2023-09-29</th>\n",
       "      <td>1526</td>\n",
       "      <td>4</td>\n",
       "    </tr>\n",
       "    <tr>\n",
       "      <th>2023-09-30</th>\n",
       "      <td>1915</td>\n",
       "      <td>5</td>\n",
       "    </tr>\n",
       "  </tbody>\n",
       "</table>\n",
       "<p>92 rows × 2 columns</p>\n",
       "</div>"
      ],
      "text/plain": [
       "            value  weakday\n",
       "date                      \n",
       "2023-07-01   2924        5\n",
       "2023-07-02   2987        6\n",
       "2023-07-03   2544        0\n",
       "2023-07-04   2547        1\n",
       "2023-07-05   2762        2\n",
       "...           ...      ...\n",
       "2023-09-26   1183        1\n",
       "2023-09-27   1070        2\n",
       "2023-09-28   1083        3\n",
       "2023-09-29   1526        4\n",
       "2023-09-30   1915        5\n",
       "\n",
       "[92 rows x 2 columns]"
      ]
     },
     "execution_count": 231,
     "metadata": {},
     "output_type": "execute_result"
    }
   ],
   "source": [
    "tourist_attendences_df = attendences_df[attendences_df['userProfile'] == \"TOURIST\"][['date','value']].groupby('date').sum()\n",
    "tourist_attendences_df['weakday'] = pd.to_datetime(tourist_attendences_df.index).weekday\n",
    "tourist_attendences_df"
   ]
  },
  {
   "cell_type": "code",
   "execution_count": 232,
   "id": "e493ac3a9243dd9d",
   "metadata": {
    "ExecuteTime": {
     "end_time": "2024-11-12T14:18:07.772122Z",
     "start_time": "2024-11-12T14:18:07.761742Z"
    }
   },
   "outputs": [
    {
     "data": {
      "text/html": [
       "<div>\n",
       "<style scoped>\n",
       "    .dataframe tbody tr th:only-of-type {\n",
       "        vertical-align: middle;\n",
       "    }\n",
       "\n",
       "    .dataframe tbody tr th {\n",
       "        vertical-align: top;\n",
       "    }\n",
       "\n",
       "    .dataframe thead th {\n",
       "        text-align: right;\n",
       "    }\n",
       "</style>\n",
       "<table border=\"1\" class=\"dataframe\">\n",
       "  <thead>\n",
       "    <tr style=\"text-align: right;\">\n",
       "      <th></th>\n",
       "      <th>value</th>\n",
       "      <th>weakday</th>\n",
       "    </tr>\n",
       "    <tr>\n",
       "      <th>date</th>\n",
       "      <th></th>\n",
       "      <th></th>\n",
       "    </tr>\n",
       "  </thead>\n",
       "  <tbody>\n",
       "    <tr>\n",
       "      <th>2023-07-01</th>\n",
       "      <td>1944</td>\n",
       "      <td>5</td>\n",
       "    </tr>\n",
       "    <tr>\n",
       "      <th>2023-07-02</th>\n",
       "      <td>4300</td>\n",
       "      <td>6</td>\n",
       "    </tr>\n",
       "    <tr>\n",
       "      <th>2023-07-03</th>\n",
       "      <td>2413</td>\n",
       "      <td>0</td>\n",
       "    </tr>\n",
       "    <tr>\n",
       "      <th>2023-07-04</th>\n",
       "      <td>1958</td>\n",
       "      <td>1</td>\n",
       "    </tr>\n",
       "    <tr>\n",
       "      <th>2023-07-05</th>\n",
       "      <td>2167</td>\n",
       "      <td>2</td>\n",
       "    </tr>\n",
       "    <tr>\n",
       "      <th>...</th>\n",
       "      <td>...</td>\n",
       "      <td>...</td>\n",
       "    </tr>\n",
       "    <tr>\n",
       "      <th>2023-09-26</th>\n",
       "      <td>763</td>\n",
       "      <td>1</td>\n",
       "    </tr>\n",
       "    <tr>\n",
       "      <th>2023-09-27</th>\n",
       "      <td>899</td>\n",
       "      <td>2</td>\n",
       "    </tr>\n",
       "    <tr>\n",
       "      <th>2023-09-28</th>\n",
       "      <td>1089</td>\n",
       "      <td>3</td>\n",
       "    </tr>\n",
       "    <tr>\n",
       "      <th>2023-09-29</th>\n",
       "      <td>703</td>\n",
       "      <td>4</td>\n",
       "    </tr>\n",
       "    <tr>\n",
       "      <th>2023-09-30</th>\n",
       "      <td>1815</td>\n",
       "      <td>5</td>\n",
       "    </tr>\n",
       "  </tbody>\n",
       "</table>\n",
       "<p>92 rows × 2 columns</p>\n",
       "</div>"
      ],
      "text/plain": [
       "            value  weakday\n",
       "date                      \n",
       "2023-07-01   1944        5\n",
       "2023-07-02   4300        6\n",
       "2023-07-03   2413        0\n",
       "2023-07-04   1958        1\n",
       "2023-07-05   2167        2\n",
       "...           ...      ...\n",
       "2023-09-26    763        1\n",
       "2023-09-27    899        2\n",
       "2023-09-28   1089        3\n",
       "2023-09-29    703        4\n",
       "2023-09-30   1815        5\n",
       "\n",
       "[92 rows x 2 columns]"
      ]
     },
     "execution_count": 232,
     "metadata": {},
     "output_type": "execute_result"
    }
   ],
   "source": [
    "excursionist_attendences_df = attendences_df[attendences_df['userProfile'] == \"VISITOR\"][['date','value']].groupby('date').sum()\n",
    "excursionist_attendences_df['weakday'] = pd.to_datetime(excursionist_attendences_df.index).weekday\n",
    "excursionist_attendences_df"
   ]
  },
  {
   "cell_type": "raw",
   "id": "1bb6749e-b42b-4a9a-b4bf-6168fe224a8c",
   "metadata": {
    "ExecuteTime": {
     "end_time": "2024-11-12T14:18:07.793991Z",
     "start_time": "2024-11-12T14:18:07.773051Z"
    },
    "scrolled": true
   },
   "source": [
    "meteotrentino_bollettino_df = pd.read_parquet(\"../experiments/datasets/meteo/meteotrentino_bollettino.parquet\", engine='pyarrow')\n",
    "meteotrentino_bollettino_df"
   ]
  },
  {
   "cell_type": "markdown",
   "id": "360fa112-22f9-4778-874e-979315e20e87",
   "metadata": {},
   "source": [
    "# Meteo "
   ]
  },
  {
   "cell_type": "code",
   "execution_count": 233,
   "id": "0a47afc2-d2d2-4663-93c2-55292809ceee",
   "metadata": {},
   "outputs": [],
   "source": [
    "FEATURE = \"probprec06-12\" #\"meteo\" #\"intprec06-12\" #\"probprec12-18\" # probprec06-12"
   ]
  },
  {
   "cell_type": "code",
   "execution_count": 248,
   "id": "1fbfbc64-7f6c-4d2b-9a76-48ae7f6192a6",
   "metadata": {},
   "outputs": [
    {
     "name": "stdout",
     "output_type": "stream",
     "text": [
      "ambiti: ['TRENTO' 'MADONNA' 'FIEMME' 'ALTIPIANO' 'VALDINON' 'DOLOMITI' 'VALSUGANA'\n",
      " 'GARDA' 'ROVERETO' None 'SMARTINO' 'VALDISOLE']\n",
      "comuni: [\"BASELGA DI PINE'\" 'CANAZEI' 'CAVALESE' 'FOLGARIA' 'FONDO' \"MALE'\"\n",
      " 'MEZZOLOMBARDO' 'MOLVENO' 'PERGINE VALSUGANA' 'PINZOLO' 'RIVA DEL GARDA'\n",
      " 'ROVERETO' \"SANT'ORSOLA\" 'TIONE DI TRENTO' 'TRENTO' 'COMANO TERME'\n",
      " 'BEZZECCA' 'PIEVE DI BONO' 'CENTA SAN NICOLO' 'SAN MARTINO DI CASTROZZA'\n",
      " 'ARCO' 'MEZZANO']\n"
     ]
    }
   ],
   "source": [
    "ambiti = meteotrentino_bollettino_df[\"ambito\"].unique()\n",
    "comuni = meteotrentino_bollettino_df[\"comune\"].unique()\n",
    "print(f\"ambiti: {ambiti}\")\n",
    "print(f\"comuni: {comuni}\")"
   ]
  },
  {
   "cell_type": "code",
   "execution_count": 290,
   "id": "a27c6a38-6c55-4215-9a89-33d8000068ba",
   "metadata": {},
   "outputs": [],
   "source": [
    "# Weather nearby Molveno\n",
    "meteo_comune_near_molveno = meteotrentino_bollettino_df[\n",
    "    ((meteotrentino_bollettino_df[\"comune\"] == \"TRENTO\") |\n",
    "     (meteotrentino_bollettino_df[\"comune\"].str.contains(\"MEZZOLOMBARDO\")) |\n",
    "     (meteotrentino_bollettino_df[\"comune\"].str.contains(\"PERGINE VALSUGANA\"))\n",
    "     ) & (meteotrentino_bollettino_df[\"data\"] >= START_DATE) &\n",
    "         (meteotrentino_bollettino_df[\"data\"] <= END_DATE)\n",
    "]"
   ]
  },
  {
   "cell_type": "code",
   "execution_count": 389,
   "id": "3d82f6455fa0559c",
   "metadata": {
    "ExecuteTime": {
     "end_time": "2024-11-12T14:18:07.819065Z",
     "start_time": "2024-11-12T14:18:07.795063Z"
    }
   },
   "outputs": [],
   "source": [
    "# Weather in Molveno\n",
    "meteo_df = meteotrentino_bollettino_df[\n",
    "    (meteotrentino_bollettino_df[\"comune\"].str.contains(\"MOLVENO\")) &\n",
    "    (meteotrentino_bollettino_df[\"data\"] >= START_DATE) &\n",
    "    (meteotrentino_bollettino_df[\"data\"] <= END_DATE)\n",
    "][['data', FEATURE]].set_index('data')\n",
    "meteo_molveno_df = meteo_df.reset_index()"
   ]
  },
  {
   "cell_type": "markdown",
   "id": "08b54493-d75b-4e54-900a-3e13c24ea71a",
   "metadata": {},
   "source": [
    "## Data imputation\n",
    "Fill in the missing values of weather with the values taken from comune near Molveno"
   ]
  },
  {
   "cell_type": "code",
   "execution_count": 390,
   "id": "04894a29-96c7-4b4e-afeb-537b7d2be35b",
   "metadata": {},
   "outputs": [
    {
     "data": {
      "text/plain": [
       "(52, 1)"
      ]
     },
     "execution_count": 390,
     "metadata": {},
     "output_type": "execute_result"
    }
   ],
   "source": [
    "meteo_df.shape"
   ]
  },
  {
   "cell_type": "code",
   "execution_count": 391,
   "id": "c3c72041-356f-4972-8590-ee27c2731361",
   "metadata": {},
   "outputs": [],
   "source": [
    "comune_near_importance_order = [\"MEZZOLOMBARDO\", \"PERGINE VALSUGANA\", \"TRENTO\"]\n",
    "# format the categorical data \n",
    "meteo_comune_near_molveno[\"comune\"] = pd.Categorical(meteo_comune_near_molveno[\"comune\"], categories = comune_near_importance_order)\n",
    "meteo_comune_near_molveno = meteo_comune_near_molveno.sort_values(by = \"comune\")"
   ]
  },
  {
   "cell_type": "code",
   "execution_count": 392,
   "id": "a7477d75-fed9-47a7-8393-5b8941810f3d",
   "metadata": {},
   "outputs": [
    {
     "data": {
      "text/plain": [
       "{'2023-07-02',\n",
       " '2023-07-03',\n",
       " '2023-08-16',\n",
       " '2023-09-07',\n",
       " '2023-09-23',\n",
       " '2023-09-26'}"
      ]
     },
     "execution_count": 392,
     "metadata": {},
     "output_type": "execute_result"
    }
   ],
   "source": [
    "missing_dates = set(meteo_comune_near_molveno[\"data\"]) - set(meteo_df.index)\n",
    "missing_dates"
   ]
  },
  {
   "cell_type": "code",
   "execution_count": 393,
   "id": "cb62ab9b-b6b4-4e7a-8c09-7bca76b6563e",
   "metadata": {},
   "outputs": [
    {
     "data": {
      "text/html": [
       "<div>\n",
       "<style scoped>\n",
       "    .dataframe tbody tr th:only-of-type {\n",
       "        vertical-align: middle;\n",
       "    }\n",
       "\n",
       "    .dataframe tbody tr th {\n",
       "        vertical-align: top;\n",
       "    }\n",
       "\n",
       "    .dataframe thead th {\n",
       "        text-align: right;\n",
       "    }\n",
       "</style>\n",
       "<table border=\"1\" class=\"dataframe\">\n",
       "  <thead>\n",
       "    <tr style=\"text-align: right;\">\n",
       "      <th></th>\n",
       "      <th>data</th>\n",
       "      <th>probprec06-12</th>\n",
       "    </tr>\n",
       "  </thead>\n",
       "  <tbody>\n",
       "    <tr>\n",
       "      <th>0</th>\n",
       "      <td>2023-09-07</td>\n",
       "      <td>--</td>\n",
       "    </tr>\n",
       "    <tr>\n",
       "      <th>1</th>\n",
       "      <td>2023-09-23</td>\n",
       "      <td>molto bassa</td>\n",
       "    </tr>\n",
       "    <tr>\n",
       "      <th>2</th>\n",
       "      <td>2023-07-03</td>\n",
       "      <td>bassa</td>\n",
       "    </tr>\n",
       "    <tr>\n",
       "      <th>3</th>\n",
       "      <td>2023-08-16</td>\n",
       "      <td>molto bassa</td>\n",
       "    </tr>\n",
       "    <tr>\n",
       "      <th>4</th>\n",
       "      <td>2023-09-26</td>\n",
       "      <td>--</td>\n",
       "    </tr>\n",
       "    <tr>\n",
       "      <th>5</th>\n",
       "      <td>2023-07-02</td>\n",
       "      <td>molto bassa</td>\n",
       "    </tr>\n",
       "  </tbody>\n",
       "</table>\n",
       "</div>"
      ],
      "text/plain": [
       "         data probprec06-12\n",
       "0  2023-09-07            --\n",
       "1  2023-09-23   molto bassa\n",
       "2  2023-07-03         bassa\n",
       "3  2023-08-16   molto bassa\n",
       "4  2023-09-26            --\n",
       "5  2023-07-02   molto bassa"
      ]
     },
     "execution_count": 393,
     "metadata": {},
     "output_type": "execute_result"
    }
   ],
   "source": [
    "filled_missing_dates = []\n",
    "for curr_date in missing_dates:    \n",
    "    rows = meteo_comune_near_molveno[meteo_comune_near_molveno[\"data\"] == curr_date]\n",
    "    rows = rows.sort_values(by = \"comune\")\n",
    "    filled_missing_dates.append({\"data\": rows.iloc[0, :].to_dict()[\"data\"],\n",
    "                        \"probprec06-12\": rows.iloc[0, :].to_dict()[\"probprec06-12\"]})\n",
    "filled_missing_dates = pd.DataFrame(data=filled_missing_dates)\n",
    "filled_missing_dates"
   ]
  },
  {
   "cell_type": "code",
   "execution_count": 394,
   "id": "834bc3fa-5a2f-499e-8404-d2829f496bda",
   "metadata": {},
   "outputs": [],
   "source": [
    "def data_imputation_weather(nearby_weather, target_weather):\n",
    "    \"\"\"\n",
    "    Filling in missing weather data for specific  days\n",
    "    \"\"\"\n",
    "    missing_dates = set(nearby_weather[\"data\"]) - set(target_weather.index)\n",
    "    comune_near_importance_order = [\"MEZZOLOMBARDO\", \"PERGINE VALSUGANA\", \"TRENTO\"]\n",
    "    # format the categorical data \n",
    "    nearby_weather[\"comune\"] = pd.Categorical(nearby_weather[\"comune\"], categories = comune_near_importance_order)\n",
    "    nearby_weather = nearby_weather.sort_values(by = \"comune\")\n",
    "    filled_missing_dates = []\n",
    "    for curr_date in missing_dates:    \n",
    "        rows = nearby_weather[nearby_weather[\"data\"] == curr_date]\n",
    "        rows = rows.sort_values(by = \"comune\")\n",
    "        filled_missing_dates.append({\"data\": rows.iloc[0, :].to_dict()[\"data\"],\n",
    "                            \"probprec06-12\": rows.iloc[0, :].to_dict()[\"probprec06-12\"]})\n",
    "    filled_missing_dates = pd.DataFrame(data=filled_missing_dates)\n",
    "    return filled_missing_dates\n",
    "resulting_data = data_imputation_weather(meteo_comune_near_molveno, meteo_df)\n",
    "resulting_data = resulting_data.set_index(\"data\")"
   ]
  },
  {
   "cell_type": "code",
   "execution_count": 397,
   "id": "9bb200e8-ce9a-4973-8c71-0fb941101d18",
   "metadata": {},
   "outputs": [
    {
     "data": {
      "text/plain": [
       "(58, 1)"
      ]
     },
     "execution_count": 397,
     "metadata": {},
     "output_type": "execute_result"
    }
   ],
   "source": [
    "meteo_df2 = pd.concat([meteo_df, resulting_data], axis=0)\n",
    "meteo_df2.shape"
   ]
  },
  {
   "cell_type": "code",
   "execution_count": 240,
   "id": "3c90cc0f14a4b516",
   "metadata": {
    "ExecuteTime": {
     "end_time": "2024-11-12T14:18:07.830847Z",
     "start_time": "2024-11-12T14:18:07.819952Z"
    }
   },
   "outputs": [
    {
     "data": {
      "text/plain": [
       "{'media': 0.057692307692307696,\n",
       " 'molto bassa': 0.5,\n",
       " 'bassa': 0.15384615384615385,\n",
       " '--': 0.23076923076923078,\n",
       " 'alta': 0.057692307692307696}"
      ]
     },
     "execution_count": 240,
     "metadata": {},
     "output_type": "execute_result"
    }
   ],
   "source": [
    "freq = dict(collections.Counter(meteo_df[FEATURE].values))\n",
    "freq.pop('--')\n",
    "\n",
    "size = sum(freq.values())\n",
    "meteo_dist = { k: v/size for k,v in freq.items() }\n",
    "\n",
    "meteo_dist"
   ]
  },
  {
   "cell_type": "code",
   "execution_count": 176,
   "id": "e84f0204a9a259eb",
   "metadata": {
    "ExecuteTime": {
     "end_time": "2024-11-12T14:18:07.852632Z",
     "start_time": "2024-11-12T14:18:07.831839Z"
    }
   },
   "outputs": [
    {
     "data": {
      "text/html": [
       "<div>\n",
       "<style scoped>\n",
       "    .dataframe tbody tr th:only-of-type {\n",
       "        vertical-align: middle;\n",
       "    }\n",
       "\n",
       "    .dataframe tbody tr th {\n",
       "        vertical-align: top;\n",
       "    }\n",
       "\n",
       "    .dataframe thead th {\n",
       "        text-align: right;\n",
       "    }\n",
       "</style>\n",
       "<table border=\"1\" class=\"dataframe\">\n",
       "  <thead>\n",
       "    <tr style=\"text-align: right;\">\n",
       "      <th></th>\n",
       "      <th>value</th>\n",
       "      <th>weakday</th>\n",
       "      <th>meteo</th>\n",
       "    </tr>\n",
       "  </thead>\n",
       "  <tbody>\n",
       "    <tr>\n",
       "      <th>2023-07-01</th>\n",
       "      <td>2924</td>\n",
       "      <td>5</td>\n",
       "      <td>Molto nuvoloso con piogge deboli</td>\n",
       "    </tr>\n",
       "    <tr>\n",
       "      <th>2023-07-02</th>\n",
       "      <td>2987</td>\n",
       "      <td>6</td>\n",
       "      <td>--</td>\n",
       "    </tr>\n",
       "    <tr>\n",
       "      <th>2023-07-03</th>\n",
       "      <td>2544</td>\n",
       "      <td>0</td>\n",
       "      <td>--</td>\n",
       "    </tr>\n",
       "    <tr>\n",
       "      <th>2023-07-04</th>\n",
       "      <td>2547</td>\n",
       "      <td>1</td>\n",
       "      <td>Nuvoloso</td>\n",
       "    </tr>\n",
       "    <tr>\n",
       "      <th>2023-07-05</th>\n",
       "      <td>2762</td>\n",
       "      <td>2</td>\n",
       "      <td>--</td>\n",
       "    </tr>\n",
       "    <tr>\n",
       "      <th>...</th>\n",
       "      <td>...</td>\n",
       "      <td>...</td>\n",
       "      <td>...</td>\n",
       "    </tr>\n",
       "    <tr>\n",
       "      <th>2023-09-26</th>\n",
       "      <td>1183</td>\n",
       "      <td>1</td>\n",
       "      <td>--</td>\n",
       "    </tr>\n",
       "    <tr>\n",
       "      <th>2023-09-27</th>\n",
       "      <td>1070</td>\n",
       "      <td>2</td>\n",
       "      <td>--</td>\n",
       "    </tr>\n",
       "    <tr>\n",
       "      <th>2023-09-28</th>\n",
       "      <td>1083</td>\n",
       "      <td>3</td>\n",
       "      <td>--</td>\n",
       "    </tr>\n",
       "    <tr>\n",
       "      <th>2023-09-29</th>\n",
       "      <td>1526</td>\n",
       "      <td>4</td>\n",
       "      <td>Sereno</td>\n",
       "    </tr>\n",
       "    <tr>\n",
       "      <th>2023-09-30</th>\n",
       "      <td>1915</td>\n",
       "      <td>5</td>\n",
       "      <td>Poco nuvoloso</td>\n",
       "    </tr>\n",
       "  </tbody>\n",
       "</table>\n",
       "<p>92 rows × 3 columns</p>\n",
       "</div>"
      ],
      "text/plain": [
       "            value  weakday                             meteo\n",
       "2023-07-01   2924        5  Molto nuvoloso con piogge deboli\n",
       "2023-07-02   2987        6                                --\n",
       "2023-07-03   2544        0                                --\n",
       "2023-07-04   2547        1                          Nuvoloso\n",
       "2023-07-05   2762        2                                --\n",
       "...           ...      ...                               ...\n",
       "2023-09-26   1183        1                                --\n",
       "2023-09-27   1070        2                                --\n",
       "2023-09-28   1083        3                                --\n",
       "2023-09-29   1526        4                            Sereno\n",
       "2023-09-30   1915        5                     Poco nuvoloso\n",
       "\n",
       "[92 rows x 3 columns]"
      ]
     },
     "execution_count": 176,
     "metadata": {},
     "output_type": "execute_result"
    }
   ],
   "source": [
    "tourist_attendences_meteo_df = pd.merge(tourist_attendences_df, meteo_df, how='outer', left_index=True, right_index=True).fillna('--')\n",
    "tourist_attendences_meteo_df"
   ]
  },
  {
   "cell_type": "code",
   "execution_count": 177,
   "id": "2e3464a2265c8a4d",
   "metadata": {
    "ExecuteTime": {
     "end_time": "2024-11-12T14:18:07.866431Z",
     "start_time": "2024-11-12T14:18:07.853616Z"
    }
   },
   "outputs": [
    {
     "data": {
      "text/html": [
       "<div>\n",
       "<style scoped>\n",
       "    .dataframe tbody tr th:only-of-type {\n",
       "        vertical-align: middle;\n",
       "    }\n",
       "\n",
       "    .dataframe tbody tr th {\n",
       "        vertical-align: top;\n",
       "    }\n",
       "\n",
       "    .dataframe thead th {\n",
       "        text-align: right;\n",
       "    }\n",
       "</style>\n",
       "<table border=\"1\" class=\"dataframe\">\n",
       "  <thead>\n",
       "    <tr style=\"text-align: right;\">\n",
       "      <th></th>\n",
       "      <th>value</th>\n",
       "      <th>weakday</th>\n",
       "      <th>meteo</th>\n",
       "    </tr>\n",
       "  </thead>\n",
       "  <tbody>\n",
       "    <tr>\n",
       "      <th>2023-07-01</th>\n",
       "      <td>1944</td>\n",
       "      <td>5</td>\n",
       "      <td>Molto nuvoloso con piogge deboli</td>\n",
       "    </tr>\n",
       "    <tr>\n",
       "      <th>2023-07-02</th>\n",
       "      <td>4300</td>\n",
       "      <td>6</td>\n",
       "      <td>--</td>\n",
       "    </tr>\n",
       "    <tr>\n",
       "      <th>2023-07-03</th>\n",
       "      <td>2413</td>\n",
       "      <td>0</td>\n",
       "      <td>--</td>\n",
       "    </tr>\n",
       "    <tr>\n",
       "      <th>2023-07-04</th>\n",
       "      <td>1958</td>\n",
       "      <td>1</td>\n",
       "      <td>Nuvoloso</td>\n",
       "    </tr>\n",
       "    <tr>\n",
       "      <th>2023-07-05</th>\n",
       "      <td>2167</td>\n",
       "      <td>2</td>\n",
       "      <td>--</td>\n",
       "    </tr>\n",
       "    <tr>\n",
       "      <th>...</th>\n",
       "      <td>...</td>\n",
       "      <td>...</td>\n",
       "      <td>...</td>\n",
       "    </tr>\n",
       "    <tr>\n",
       "      <th>2023-09-26</th>\n",
       "      <td>763</td>\n",
       "      <td>1</td>\n",
       "      <td>--</td>\n",
       "    </tr>\n",
       "    <tr>\n",
       "      <th>2023-09-27</th>\n",
       "      <td>899</td>\n",
       "      <td>2</td>\n",
       "      <td>--</td>\n",
       "    </tr>\n",
       "    <tr>\n",
       "      <th>2023-09-28</th>\n",
       "      <td>1089</td>\n",
       "      <td>3</td>\n",
       "      <td>--</td>\n",
       "    </tr>\n",
       "    <tr>\n",
       "      <th>2023-09-29</th>\n",
       "      <td>703</td>\n",
       "      <td>4</td>\n",
       "      <td>Sereno</td>\n",
       "    </tr>\n",
       "    <tr>\n",
       "      <th>2023-09-30</th>\n",
       "      <td>1815</td>\n",
       "      <td>5</td>\n",
       "      <td>Poco nuvoloso</td>\n",
       "    </tr>\n",
       "  </tbody>\n",
       "</table>\n",
       "<p>92 rows × 3 columns</p>\n",
       "</div>"
      ],
      "text/plain": [
       "            value  weakday                             meteo\n",
       "2023-07-01   1944        5  Molto nuvoloso con piogge deboli\n",
       "2023-07-02   4300        6                                --\n",
       "2023-07-03   2413        0                                --\n",
       "2023-07-04   1958        1                          Nuvoloso\n",
       "2023-07-05   2167        2                                --\n",
       "...           ...      ...                               ...\n",
       "2023-09-26    763        1                                --\n",
       "2023-09-27    899        2                                --\n",
       "2023-09-28   1089        3                                --\n",
       "2023-09-29    703        4                            Sereno\n",
       "2023-09-30   1815        5                     Poco nuvoloso\n",
       "\n",
       "[92 rows x 3 columns]"
      ]
     },
     "execution_count": 177,
     "metadata": {},
     "output_type": "execute_result"
    }
   ],
   "source": [
    "excursionist_attendences_meteo_df = pd.merge(excursionist_attendences_df, meteo_df, how='outer', left_index=True, right_index=True).fillna('--')\n",
    "excursionist_attendences_meteo_df"
   ]
  },
  {
   "cell_type": "code",
   "execution_count": 178,
   "id": "93384563305e5496",
   "metadata": {
    "ExecuteTime": {
     "end_time": "2024-11-12T14:18:07.877818Z",
     "start_time": "2024-11-12T14:18:07.867070Z"
    }
   },
   "outputs": [],
   "source": [
    "def compute_stats(attendences_meteo_df):\n",
    "    presences_stats = {}\n",
    "    \n",
    "    sample = attendences_meteo_df[['value']]\n",
    "    (mean, std) = (sample.mean().value, sample.std().value)\n",
    "    presences_stats[-1, \"*\"] = {'mean':mean, 'std':std}\n",
    "    \n",
    "    for w in range(7):\n",
    "        sample = attendences_meteo_df[attendences_meteo_df['weakday']==w][['value']]\n",
    "        (mean, std) = (sample.mean().value, sample.std().value)\n",
    "        presences_stats[w, \"*\"] = {'mean':mean, 'std':std}\n",
    "        \n",
    "    for p in attendences_meteo_df[FEATURE].unique():\n",
    "        if p == '--': continue\n",
    "        sample = attendences_meteo_df[attendences_meteo_df[FEATURE]==p][['value']]\n",
    "        (mean, std) = (sample.mean().value, sample.std().value)\n",
    "        presences_stats[-1, p] = {'mean':mean, 'std':std}\n",
    "        \n",
    "        for w in range(7):\n",
    "            sample = attendences_meteo_df[(attendences_meteo_df['weakday']==w) &\n",
    "                 (attendences_meteo_df[FEATURE]==p)][['value']]\n",
    "            if len(sample) == 0:\n",
    "                (mean, std) = ((presences_stats[w, '*']['mean'] + presences_stats[-1,p]['mean']) * 0.5,\n",
    "                               (presences_stats[w, '*']['std'] * presences_stats[-1,p]['std']) ** 0.5)\n",
    "            elif len(sample) == 1:\n",
    "                (mean, std) =  (sample.mean().value,\n",
    "                                (presences_stats[w, '*']['std'] * presences_stats[-1,p]['std']) ** 0.5)\n",
    "            else:\n",
    "                (mean, std) = (sample.mean().value, sample.std().value)\n",
    "            presences_stats[w, p] = {'mean':mean, 'std':std}\n",
    "    \n",
    "    return presences_stats"
   ]
  },
  {
   "cell_type": "code",
   "execution_count": 179,
   "id": "c949fa550ef6eaf0",
   "metadata": {
    "ExecuteTime": {
     "end_time": "2024-11-12T14:18:07.923286Z",
     "start_time": "2024-11-12T14:18:07.878597Z"
    }
   },
   "outputs": [
    {
     "data": {
      "text/plain": [
       "{(-1, '*'): {'mean': 3292.75, 'std': 1127.9532044010873},\n",
       " (0, '*'): {'mean': 3037.4615384615386, 'std': 1171.188258094076},\n",
       " (1, '*'): {'mean': 2945.230769230769, 'std': 1117.096247259396},\n",
       " (2, '*'): {'mean': 3031.4615384615386, 'std': 1151.6471258871368},\n",
       " (3, '*'): {'mean': 3136.4615384615386, 'std': 1167.2054671582473},\n",
       " (4, '*'): {'mean': 3361.230769230769, 'std': 994.882920569564},\n",
       " (5, '*'): {'mean': 3858.5, 'std': 1151.389511717172},\n",
       " (6, '*'): {'mean': 3635.3846153846152, 'std': 1051.836927986902},\n",
       " (-1, 'Molto nuvoloso con piogge deboli'): {'mean': 3111.0,\n",
       "  'std': 264.45793616376875},\n",
       " (0, 'Molto nuvoloso con piogge deboli'): {'mean': 3074.2307692307695,\n",
       "  'std': 556.5339428954884},\n",
       " (1, 'Molto nuvoloso con piogge deboli'): {'mean': 3298.0,\n",
       "  'std': 543.5300985653978},\n",
       " (2, 'Molto nuvoloso con piogge deboli'): {'mean': 3071.2307692307695,\n",
       "  'std': 551.871563048005},\n",
       " (3, 'Molto nuvoloso con piogge deboli'): {'mean': 3123.7307692307695,\n",
       "  'std': 555.5868509276814},\n",
       " (4, 'Molto nuvoloso con piogge deboli'): {'mean': 3236.1153846153848,\n",
       "  'std': 512.9373099106845},\n",
       " (5, 'Molto nuvoloso con piogge deboli'): {'mean': 2924.0,\n",
       "  'std': 551.8098349878632},\n",
       " (6, 'Molto nuvoloso con piogge deboli'): {'mean': 3373.1923076923076,\n",
       "  'std': 527.4150388036492},\n",
       " (-1, 'Nuvoloso'): {'mean': 3348.875, 'std': 1245.1987147783739},\n",
       " (0, 'Nuvoloso'): {'mean': 3193.1682692307695, 'std': 1207.6266450117212},\n",
       " (1, 'Nuvoloso'): {'mean': 2063.0, 'std': 684.479364188578},\n",
       " (2, 'Nuvoloso'): {'mean': 2672.0, 'std': 1197.5097164669983},\n",
       " (3, 'Nuvoloso'): {'mean': 4202.5, 'std': 982.1713190681145},\n",
       " (4, 'Nuvoloso'): {'mean': 3355.0528846153848, 'std': 1113.0260257730615},\n",
       " (5, 'Nuvoloso'): {'mean': 3512.5, 'std': 1634.1237713221112},\n",
       " (6, 'Nuvoloso'): {'mean': 4563.0, 'std': 1144.4413444496504},\n",
       " (-1, 'Nuvoloso con piogge deboli'): {'mean': 3216.8571428571427,\n",
       "  'std': 1162.8166133103175},\n",
       " (0, 'Nuvoloso con piogge deboli'): {'mean': 3578.0,\n",
       "  'std': 1166.9949287917937},\n",
       " (1, 'Nuvoloso con piogge deboli'): {'mean': 3081.043956043956,\n",
       "  'std': 1139.7271932264475},\n",
       " (2, 'Nuvoloso con piogge deboli'): {'mean': 3550.0,\n",
       "  'std': 1157.2183936719298},\n",
       " (3, 'Nuvoloso con piogge deboli'): {'mean': 2268.5, 'std': 870.44844764064},\n",
       " (4, 'Nuvoloso con piogge deboli'): {'mean': 1827.0, 'std': 1075.577234947346},\n",
       " (5, 'Nuvoloso con piogge deboli'): {'mean': 4513.0,\n",
       "  'std': 152.73506473629428},\n",
       " (6, 'Nuvoloso con piogge deboli'): {'mean': 3426.120879120879,\n",
       "  'std': 1105.9355561498407},\n",
       " (-1, 'Poco nuvoloso'): {'mean': 3946.3333333333335, 'std': 944.7452213868739},\n",
       " (0, 'Poco nuvoloso'): {'mean': 4305.0, 'std': 558.3896489011952},\n",
       " (1, 'Poco nuvoloso'): {'mean': 3017.0, 'std': 1027.3126794834784},\n",
       " (2, 'Poco nuvoloso'): {'mean': 2913.5, 'std': 770.0392847121502},\n",
       " (3, 'Poco nuvoloso'): {'mean': 4849.0, 'std': 1050.1008463354308},\n",
       " (4, 'Poco nuvoloso'): {'mean': 4010.5, 'std': 700.5134545460209},\n",
       " (5, 'Poco nuvoloso'): {'mean': 4133.5, 'std': 1337.9678247252434},\n",
       " (6, 'Poco nuvoloso'): {'mean': 3700.5, 'std': 822.3651865199548},\n",
       " (-1, 'Sereno'): {'mean': 3171.090909090909, 'std': 1435.986173648302},\n",
       " (0, 'Sereno'): {'mean': 2465.6666666666665, 'std': 1790.0729966493918},\n",
       " (1, 'Sereno'): {'mean': 4253.0, 'std': 1266.5444191574559},\n",
       " (2, 'Sereno'): {'mean': 3101.2762237762236, 'std': 1285.9818621177103},\n",
       " (3, 'Sereno'): {'mean': 3153.7762237762236, 'std': 1294.6392982780765},\n",
       " (4, 'Sereno'): {'mean': 2205.0, 'std': 960.2510088513316},\n",
       " (5, 'Sereno'): {'mean': 3925.5, 'std': 1003.384522503711},\n",
       " (6, 'Sereno'): {'mean': 3657.0, 'std': 1718.4772329012683},\n",
       " (-1, 'Coperto con piogge moderate'): {'mean': 2610.0,\n",
       "  'std': 84.8528137423857},\n",
       " (0, 'Coperto con piogge moderate'): {'mean': 2670.0,\n",
       "  'std': 315.24374557051215},\n",
       " (1, 'Coperto con piogge moderate'): {'mean': 2777.6153846153848,\n",
       "  'std': 307.8778325911425},\n",
       " (2, 'Coperto con piogge moderate'): {'mean': 2820.7307692307695,\n",
       "  'std': 312.60278160927334},\n",
       " (3, 'Coperto con piogge moderate'): {'mean': 2873.2307692307695,\n",
       "  'std': 314.70727367487564},\n",
       " (4, 'Coperto con piogge moderate'): {'mean': 2550.0,\n",
       "  'std': 290.5488171625724},\n",
       " (5, 'Coperto con piogge moderate'): {'mean': 3234.25,\n",
       "  'std': 312.5678162937982},\n",
       " (6, 'Coperto con piogge moderate'): {'mean': 3122.6923076923076,\n",
       "  'std': 298.74959905887033},\n",
       " (-1, 'Molto nuvoloso'): {'mean': 1768.0, 'std': nan},\n",
       " (0, 'Molto nuvoloso'): {'mean': 2402.7307692307695, 'std': nan},\n",
       " (1, 'Molto nuvoloso'): {'mean': 2356.6153846153848, 'std': nan},\n",
       " (2, 'Molto nuvoloso'): {'mean': 1768.0, 'std': nan},\n",
       " (3, 'Molto nuvoloso'): {'mean': 2452.2307692307695, 'std': nan},\n",
       " (4, 'Molto nuvoloso'): {'mean': 2564.6153846153848, 'std': nan},\n",
       " (5, 'Molto nuvoloso'): {'mean': 2813.25, 'std': nan},\n",
       " (6, 'Molto nuvoloso'): {'mean': 2701.6923076923076, 'std': nan}}"
      ]
     },
     "execution_count": 179,
     "metadata": {},
     "output_type": "execute_result"
    }
   ],
   "source": [
    "tourist_presences_stats = compute_stats(tourist_attendences_meteo_df)\n",
    "tourist_presences_stats"
   ]
  },
  {
   "cell_type": "code",
   "execution_count": 180,
   "id": "e1dd0860b4176405",
   "metadata": {
    "ExecuteTime": {
     "end_time": "2024-11-12T14:18:07.951848Z",
     "start_time": "2024-11-12T14:18:07.923957Z"
    }
   },
   "outputs": [
    {
     "data": {
      "text/plain": [
       "{(-1, '*'): {'mean': 3198.0760869565215, 'std': 1849.4465714155635},\n",
       " (0, '*'): {'mean': 2830.0, 'std': 2083.9047483030504},\n",
       " (1, '*'): {'mean': 2861.0, 'std': 2259.344189508687},\n",
       " (2, '*'): {'mean': 2746.230769230769, 'std': 1543.493070594863},\n",
       " (3, '*'): {'mean': 2810.3076923076924, 'std': 1691.1208011560157},\n",
       " (4, '*'): {'mean': 2940.153846153846, 'std': 1752.114714954182},\n",
       " (5, '*'): {'mean': 3690.5, 'std': 1471.7294771275576},\n",
       " (6, '*'): {'mean': 4470.461538461538, 'std': 1752.059388994592},\n",
       " (-1, 'Molto nuvoloso con piogge deboli'): {'mean': 1952.5,\n",
       "  'std': 12.020815280171307},\n",
       " (0, 'Molto nuvoloso con piogge deboli'): {'mean': 2391.25,\n",
       "  'std': 158.2726572747891},\n",
       " (1, 'Molto nuvoloso con piogge deboli'): {'mean': 1961.0,\n",
       "  'std': 164.80036151784464},\n",
       " (2, 'Molto nuvoloso con piogge deboli'): {'mean': 2349.3653846153848,\n",
       "  'std': 136.21323389394018},\n",
       " (3, 'Molto nuvoloso con piogge deboli'): {'mean': 2381.403846153846,\n",
       "  'std': 142.5785775183347},\n",
       " (4, 'Molto nuvoloso con piogge deboli'): {'mean': 2446.326923076923,\n",
       "  'std': 145.12700416577965},\n",
       " (5, 'Molto nuvoloso con piogge deboli'): {'mean': 1944.0,\n",
       "  'std': 133.00897784335262},\n",
       " (6, 'Molto nuvoloso con piogge deboli'): {'mean': 3211.480769230769,\n",
       "  'std': 145.12471283345852},\n",
       " (-1, 'Nuvoloso'): {'mean': 3246.125, 'std': 1503.199201465233},\n",
       " (0, 'Nuvoloso'): {'mean': 3038.0625, 'std': 1769.8937690095281},\n",
       " (1, 'Nuvoloso'): {'mean': 1605.5, 'std': 498.510280736516},\n",
       " (2, 'Nuvoloso'): {'mean': 2469.0, 'std': 1523.2129040896807},\n",
       " (3, 'Nuvoloso'): {'mean': 4339.0, 'std': 2076.0655095637035},\n",
       " (4, 'Nuvoloso'): {'mean': 3093.139423076923, 'std': 1622.891690900724},\n",
       " (5, 'Nuvoloso'): {'mean': 3516.0, 'std': 980.0499987245548},\n",
       " (6, 'Nuvoloso'): {'mean': 4579.0, 'std': 1622.8660679354705},\n",
       " (-1, 'Nuvoloso con piogge deboli'): {'mean': 2000.142857142857,\n",
       "  'std': 986.6937094106135},\n",
       " (0, 'Nuvoloso con piogge deboli'): {'mean': 1820.0,\n",
       "  'std': 1433.9371346616028},\n",
       " (1, 'Nuvoloso con piogge deboli'): {'mean': 2430.5714285714284,\n",
       "  'std': 1493.0775931550384},\n",
       " (2, 'Nuvoloso con piogge deboli'): {'mean': 2876.0, 'std': 1234.080590267436},\n",
       " (3, 'Nuvoloso con piogge deboli'): {'mean': 1168.5, 'std': 77.07463914933368},\n",
       " (4, 'Nuvoloso con piogge deboli'): {'mean': 1049.0,\n",
       "  'std': 1314.8386088836385},\n",
       " (5, 'Nuvoloso con piogge deboli'): {'mean': 2959.5, 'std': 952.4728342582795},\n",
       " (6, 'Nuvoloso con piogge deboli'): {'mean': 3235.3021978021975,\n",
       "  'std': 1314.8178496030416},\n",
       " (-1, 'Poco nuvoloso'): {'mean': 4313.666666666667, 'std': 1421.4054429800574},\n",
       " (0, 'Poco nuvoloso'): {'mean': 5242.333333333333, 'std': 1511.841702471966},\n",
       " (1, 'Poco nuvoloso'): {'mean': 2967.0, 'std': 1792.0502583725195},\n",
       " (2, 'Poco nuvoloso'): {'mean': 2767.5, 'std': 791.2524881477467},\n",
       " (3, 'Poco nuvoloso'): {'mean': 5750.0, 'std': 1550.4090787595242},\n",
       " (4, 'Poco nuvoloso'): {'mean': 4283.666666666667, 'std': 1408.8461472661472},\n",
       " (5, 'Poco nuvoloso'): {'mean': 4316.166666666667, 'std': 1576.9181864214345},\n",
       " (6, 'Poco nuvoloso'): {'mean': 4504.5, 'std': 1236.7297602952717},\n",
       " (-1, 'Sereno'): {'mean': 3700.5454545454545, 'std': 2323.4665637205267},\n",
       " (0, 'Sereno'): {'mean': 2641.6666666666665, 'std': 2832.949052371633},\n",
       " (1, 'Sereno'): {'mean': 5604.0, 'std': 2291.181066668387},\n",
       " (2, 'Sereno'): {'mean': 3223.388111888112, 'std': 1893.7408853540367},\n",
       " (3, 'Sereno'): {'mean': 3255.4265734265737, 'std': 1982.2367761441294},\n",
       " (4, 'Sereno'): {'mean': 1568.0, 'std': 1223.2947314527273},\n",
       " (5, 'Sereno'): {'mean': 4639.0, 'std': 1070.559666716433},\n",
       " (6, 'Sereno'): {'mean': 4921.0, 'std': 2547.448331173765},\n",
       " (-1, 'Coperto con piogge moderate'): {'mean': 773.0,\n",
       "  'std': 179.60512242138307},\n",
       " (0, 'Coperto con piogge moderate'): {'mean': 900.0, 'std': 611.7842490890647},\n",
       " (1, 'Coperto con piogge moderate'): {'mean': 1817.0, 'std': 637.016318275088},\n",
       " (2, 'Coperto con piogge moderate'): {'mean': 1759.6153846153845,\n",
       "  'std': 526.5161554033712},\n",
       " (3, 'Coperto con piogge moderate'): {'mean': 1791.6538461538462,\n",
       "  'std': 551.1206388087581},\n",
       " (4, 'Coperto con piogge moderate'): {'mean': 646.0, 'std': 560.9712807939927},\n",
       " (5, 'Coperto con piogge moderate'): {'mean': 2231.75,\n",
       "  'std': 514.1304823784067},\n",
       " (6, 'Coperto con piogge moderate'): {'mean': 2621.730769230769,\n",
       "  'std': 560.9624239197375},\n",
       " (-1, 'Molto nuvoloso'): {'mean': 1126.0, 'std': nan},\n",
       " (0, 'Molto nuvoloso'): {'mean': 1978.0, 'std': nan},\n",
       " (1, 'Molto nuvoloso'): {'mean': 1993.5, 'std': nan},\n",
       " (2, 'Molto nuvoloso'): {'mean': 1126.0, 'std': nan},\n",
       " (3, 'Molto nuvoloso'): {'mean': 1968.1538461538462, 'std': nan},\n",
       " (4, 'Molto nuvoloso'): {'mean': 2033.076923076923, 'std': nan},\n",
       " (5, 'Molto nuvoloso'): {'mean': 2408.25, 'std': nan},\n",
       " (6, 'Molto nuvoloso'): {'mean': 2798.230769230769, 'std': nan}}"
      ]
     },
     "execution_count": 180,
     "metadata": {},
     "output_type": "execute_result"
    }
   ],
   "source": [
    "excursionist_presences_stats = compute_stats(excursionist_attendences_meteo_df)\n",
    "excursionist_presences_stats"
   ]
  },
  {
   "cell_type": "code",
   "execution_count": 181,
   "id": "7b7ead3e4ec20551",
   "metadata": {
    "ExecuteTime": {
     "end_time": "2024-11-12T14:18:07.962727Z",
     "start_time": "2024-11-12T14:18:07.952618Z"
    }
   },
   "outputs": [],
   "source": [
    "from scipy.stats import truncnorm"
   ]
  },
  {
   "cell_type": "code",
   "execution_count": 182,
   "id": "b262a197cf74bffa",
   "metadata": {
    "ExecuteTime": {
     "end_time": "2024-11-12T14:18:07.975632Z",
     "start_time": "2024-11-12T14:18:07.963313Z"
    }
   },
   "outputs": [],
   "source": [
    "tourist_sample_w = {}\n",
    "excursionist_sample_w = {}\n",
    "sample_size = 100\n",
    "\n",
    "for w in range(-1,7):\n",
    "    stats = tourist_presences_stats[w,'*']\n",
    "    tourist_sample_w[w] = truncnorm.rvs(-stats['mean'] / stats['std'], 10, loc=stats['mean'], scale=stats['std'], size=sample_size)\n",
    "    stats = excursionist_presences_stats[w,'*']\n",
    "    excursionist_sample_w[w] = truncnorm.rvs(-stats['mean'] / stats['std'], 10, loc=stats['mean'], scale=stats['std'], size=sample_size)"
   ]
  },
  {
   "cell_type": "code",
   "execution_count": 183,
   "id": "6123632c2cf23658",
   "metadata": {
    "ExecuteTime": {
     "end_time": "2024-11-12T14:18:07.991761Z",
     "start_time": "2024-11-12T14:18:07.976181Z"
    }
   },
   "outputs": [],
   "source": [
    "import matplotlib.pyplot as plt"
   ]
  },
  {
   "cell_type": "code",
   "execution_count": 184,
   "id": "94ef59c3d7c845d2",
   "metadata": {
    "ExecuteTime": {
     "end_time": "2024-11-12T14:18:08.086560Z",
     "start_time": "2024-11-12T14:18:07.992339Z"
    }
   },
   "outputs": [
    {
     "data": {
      "image/png": "[encoded data removed]",
      "text/plain": [
       "<Figure size 640x480 with 1 Axes>"
      ]
     },
     "metadata": {},
     "output_type": "display_data"
    }
   ],
   "source": [
    "plt.scatter(tourist_sample_w[-1], excursionist_sample_w[-1]);"
   ]
  },
  {
   "cell_type": "code",
   "execution_count": 185,
   "id": "60f93cb0bd0ed7cf",
   "metadata": {
    "ExecuteTime": {
     "end_time": "2024-11-12T14:18:08.199039Z",
     "start_time": "2024-11-12T14:18:08.087357Z"
    }
   },
   "outputs": [
    {
     "data": {
      "image/png": "[encoded data removed]",
      "text/plain": [
       "<Figure size 640x480 with 1 Axes>"
      ]
     },
     "metadata": {},
     "output_type": "display_data"
    }
   ],
   "source": [
    "for w in range(7):\n",
    "    plt.scatter(tourist_sample_w[w], excursionist_sample_w[w]);"
   ]
  },
  {
   "cell_type": "code",
   "execution_count": 186,
   "id": "78f7146d3c327cf0",
   "metadata": {
    "ExecuteTime": {
     "end_time": "2024-11-12T14:18:08.205285Z",
     "start_time": "2024-11-12T14:18:08.199973Z"
    }
   },
   "outputs": [
    {
     "ename": "ValueError",
     "evalue": "Domain error in arguments. The `scale` parameter must be positive for all distributions, and many distributions have restrictions on shape parameters. Please see the `scipy.stats.truncnorm` documentation for details.",
     "output_type": "error",
     "traceback": [
      "\u001b[0;31m---------------------------------------------------------------------------\u001b[0m",
      "\u001b[0;31mValueError\u001b[0m                                Traceback (most recent call last)",
      "Cell \u001b[0;32mIn[186], line 7\u001b[0m\n\u001b[1;32m      5\u001b[0m \u001b[38;5;28;01mfor\u001b[39;00m p \u001b[38;5;129;01min\u001b[39;00m meteo_dist\u001b[38;5;241m.\u001b[39mkeys():\n\u001b[1;32m      6\u001b[0m     stats \u001b[38;5;241m=\u001b[39m tourist_presences_stats[\u001b[38;5;241m-\u001b[39m\u001b[38;5;241m1\u001b[39m, p]\n\u001b[0;32m----> 7\u001b[0m     tourist_sample_p[p] \u001b[38;5;241m=\u001b[39m \u001b[43mtruncnorm\u001b[49m\u001b[38;5;241;43m.\u001b[39;49m\u001b[43mrvs\u001b[49m\u001b[43m(\u001b[49m\u001b[38;5;241;43m-\u001b[39;49m\u001b[43mstats\u001b[49m\u001b[43m[\u001b[49m\u001b[38;5;124;43m'\u001b[39;49m\u001b[38;5;124;43mmean\u001b[39;49m\u001b[38;5;124;43m'\u001b[39;49m\u001b[43m]\u001b[49m\u001b[43m \u001b[49m\u001b[38;5;241;43m/\u001b[39;49m\u001b[43m \u001b[49m\u001b[43mstats\u001b[49m\u001b[43m[\u001b[49m\u001b[38;5;124;43m'\u001b[39;49m\u001b[38;5;124;43mstd\u001b[39;49m\u001b[38;5;124;43m'\u001b[39;49m\u001b[43m]\u001b[49m\u001b[43m,\u001b[49m\u001b[43m \u001b[49m\u001b[38;5;241;43m10\u001b[39;49m\u001b[43m,\u001b[49m\u001b[43m \u001b[49m\u001b[43mloc\u001b[49m\u001b[38;5;241;43m=\u001b[39;49m\u001b[43mstats\u001b[49m\u001b[43m[\u001b[49m\u001b[38;5;124;43m'\u001b[39;49m\u001b[38;5;124;43mmean\u001b[39;49m\u001b[38;5;124;43m'\u001b[39;49m\u001b[43m]\u001b[49m\u001b[43m,\u001b[49m\u001b[43m \u001b[49m\u001b[43mscale\u001b[49m\u001b[38;5;241;43m=\u001b[39;49m\u001b[43mstats\u001b[49m\u001b[43m[\u001b[49m\u001b[38;5;124;43m'\u001b[39;49m\u001b[38;5;124;43mstd\u001b[39;49m\u001b[38;5;124;43m'\u001b[39;49m\u001b[43m]\u001b[49m\u001b[43m,\u001b[49m\u001b[43m \u001b[49m\u001b[43msize\u001b[49m\u001b[38;5;241;43m=\u001b[39;49m\u001b[43msample_size\u001b[49m\u001b[43m)\u001b[49m\n\u001b[1;32m      8\u001b[0m     stats \u001b[38;5;241m=\u001b[39m excursionist_presences_stats[\u001b[38;5;241m-\u001b[39m\u001b[38;5;241m1\u001b[39m, p]\n\u001b[1;32m      9\u001b[0m     excursionist_sample_p[p] \u001b[38;5;241m=\u001b[39m truncnorm\u001b[38;5;241m.\u001b[39mrvs(\u001b[38;5;241m-\u001b[39mstats[\u001b[38;5;124m'\u001b[39m\u001b[38;5;124mmean\u001b[39m\u001b[38;5;124m'\u001b[39m] \u001b[38;5;241m/\u001b[39m stats[\u001b[38;5;124m'\u001b[39m\u001b[38;5;124mstd\u001b[39m\u001b[38;5;124m'\u001b[39m], \u001b[38;5;241m10\u001b[39m, loc\u001b[38;5;241m=\u001b[39mstats[\u001b[38;5;124m'\u001b[39m\u001b[38;5;124mmean\u001b[39m\u001b[38;5;124m'\u001b[39m], scale\u001b[38;5;241m=\u001b[39mstats[\u001b[38;5;124m'\u001b[39m\u001b[38;5;124mstd\u001b[39m\u001b[38;5;124m'\u001b[39m], size\u001b[38;5;241m=\u001b[39msample_size)\n",
      "File \u001b[0;32m/opt/conda/lib/python3.10/site-packages/scipy/stats/_distn_infrastructure.py:1096\u001b[0m, in \u001b[0;36mrv_generic.rvs\u001b[0;34m(self, *args, **kwds)\u001b[0m\n\u001b[1;32m   1090\u001b[0m \u001b[38;5;28;01mif\u001b[39;00m \u001b[38;5;129;01mnot\u001b[39;00m np\u001b[38;5;241m.\u001b[39mall(cond):\n\u001b[1;32m   1091\u001b[0m     message \u001b[38;5;241m=\u001b[39m (\u001b[38;5;124m\"\u001b[39m\u001b[38;5;124mDomain error in arguments. The `scale` parameter must \u001b[39m\u001b[38;5;124m\"\u001b[39m\n\u001b[1;32m   1092\u001b[0m                \u001b[38;5;124m\"\u001b[39m\u001b[38;5;124mbe positive for all distributions, and many \u001b[39m\u001b[38;5;124m\"\u001b[39m\n\u001b[1;32m   1093\u001b[0m                \u001b[38;5;124m\"\u001b[39m\u001b[38;5;124mdistributions have restrictions on shape parameters. \u001b[39m\u001b[38;5;124m\"\u001b[39m\n\u001b[1;32m   1094\u001b[0m                \u001b[38;5;124mf\u001b[39m\u001b[38;5;124m\"\u001b[39m\u001b[38;5;124mPlease see the `scipy.stats.\u001b[39m\u001b[38;5;132;01m{\u001b[39;00m\u001b[38;5;28mself\u001b[39m\u001b[38;5;241m.\u001b[39mname\u001b[38;5;132;01m}\u001b[39;00m\u001b[38;5;124m` \u001b[39m\u001b[38;5;124m\"\u001b[39m\n\u001b[1;32m   1095\u001b[0m                \u001b[38;5;124m\"\u001b[39m\u001b[38;5;124mdocumentation for details.\u001b[39m\u001b[38;5;124m\"\u001b[39m)\n\u001b[0;32m-> 1096\u001b[0m     \u001b[38;5;28;01mraise\u001b[39;00m \u001b[38;5;167;01mValueError\u001b[39;00m(message)\n\u001b[1;32m   1098\u001b[0m \u001b[38;5;28;01mif\u001b[39;00m np\u001b[38;5;241m.\u001b[39mall(scale \u001b[38;5;241m==\u001b[39m \u001b[38;5;241m0\u001b[39m):\n\u001b[1;32m   1099\u001b[0m     \u001b[38;5;28;01mreturn\u001b[39;00m loc\u001b[38;5;241m*\u001b[39mones(size, \u001b[38;5;124m'\u001b[39m\u001b[38;5;124md\u001b[39m\u001b[38;5;124m'\u001b[39m)\n",
      "\u001b[0;31mValueError\u001b[0m: Domain error in arguments. The `scale` parameter must be positive for all distributions, and many distributions have restrictions on shape parameters. Please see the `scipy.stats.truncnorm` documentation for details."
     ]
    }
   ],
   "source": [
    "tourist_sample_p = {}\n",
    "excursionist_sample_p = {}\n",
    "sample_size = 100\n",
    "\n",
    "for p in meteo_dist.keys():\n",
    "    stats = tourist_presences_stats[-1, p]\n",
    "    tourist_sample_p[p] = truncnorm.rvs(-stats['mean'] / stats['std'], 10, loc=stats['mean'], scale=stats['std'], size=sample_size)\n",
    "    stats = excursionist_presences_stats[-1, p]\n",
    "    excursionist_sample_p[p] = truncnorm.rvs(-stats['mean'] / stats['std'], 10, loc=stats['mean'], scale=stats['std'], size=sample_size)"
   ]
  },
  {
   "cell_type": "code",
   "execution_count": 187,
   "id": "4265ffaca8596e1f",
   "metadata": {
    "ExecuteTime": {
     "end_time": "2024-11-12T14:18:08.414796Z",
     "start_time": "2024-11-12T14:18:08.206375Z"
    }
   },
   "outputs": [
    {
     "ename": "KeyError",
     "evalue": "'Molto nuvoloso'",
     "output_type": "error",
     "traceback": [
      "\u001b[0;31m---------------------------------------------------------------------------\u001b[0m",
      "\u001b[0;31mKeyError\u001b[0m                                  Traceback (most recent call last)",
      "Cell \u001b[0;32mIn[187], line 3\u001b[0m\n\u001b[1;32m      1\u001b[0m plt\u001b[38;5;241m.\u001b[39mscatter(tourist_sample_w[\u001b[38;5;241m-\u001b[39m\u001b[38;5;241m1\u001b[39m], excursionist_sample_w[\u001b[38;5;241m-\u001b[39m\u001b[38;5;241m1\u001b[39m], label\u001b[38;5;241m=\u001b[39m\u001b[38;5;124m'\u001b[39m\u001b[38;5;124mALL\u001b[39m\u001b[38;5;124m'\u001b[39m)\n\u001b[1;32m      2\u001b[0m \u001b[38;5;28;01mfor\u001b[39;00m p \u001b[38;5;129;01min\u001b[39;00m meteo_dist\u001b[38;5;241m.\u001b[39mkeys():\n\u001b[0;32m----> 3\u001b[0m     plt\u001b[38;5;241m.\u001b[39mscatter(\u001b[43mtourist_sample_p\u001b[49m\u001b[43m[\u001b[49m\u001b[43mp\u001b[49m\u001b[43m]\u001b[49m, excursionist_sample_p[p], label\u001b[38;5;241m=\u001b[39mp)\n\u001b[1;32m      4\u001b[0m     plt\u001b[38;5;241m.\u001b[39mlegend()\n",
      "\u001b[0;31mKeyError\u001b[0m: 'Molto nuvoloso'"
     ]
    },
    {
     "data": {
      "image/png": "[encoded data removed]",
      "text/plain": [
       "<Figure size 640x480 with 1 Axes>"
      ]
     },
     "metadata": {},
     "output_type": "display_data"
    }
   ],
   "source": [
    "plt.scatter(tourist_sample_w[-1], excursionist_sample_w[-1], label='ALL')\n",
    "for p in meteo_dist.keys():\n",
    "    plt.scatter(tourist_sample_p[p], excursionist_sample_p[p], label=p)\n",
    "    plt.legend()"
   ]
  },
  {
   "cell_type": "code",
   "execution_count": 188,
   "id": "3f2ff05d15f0c2de",
   "metadata": {
    "ExecuteTime": {
     "end_time": "2024-11-12T14:18:08.419060Z",
     "start_time": "2024-11-12T14:18:08.415929Z"
    }
   },
   "outputs": [
    {
     "data": {
      "text/plain": [
       "{'Molto nuvoloso con piogge deboli': 0.038461538461538464,\n",
       " 'Nuvoloso': 0.15384615384615385,\n",
       " 'Nuvoloso con piogge deboli': 0.1346153846153846,\n",
       " 'Poco nuvoloso': 0.40384615384615385,\n",
       " 'Sereno': 0.21153846153846154,\n",
       " 'Coperto con piogge moderate': 0.038461538461538464,\n",
       " 'Molto nuvoloso': 0.019230769230769232}"
      ]
     },
     "execution_count": 188,
     "metadata": {},
     "output_type": "execute_result"
    }
   ],
   "source": [
    "meteo_dist"
   ]
  },
  {
   "cell_type": "code",
   "execution_count": null,
   "id": "f7afa7918af11cdf",
   "metadata": {
    "ExecuteTime": {
     "end_time": "2024-11-12T14:18:08.421537Z",
     "start_time": "2024-11-12T14:18:08.419877Z"
    }
   },
   "outputs": [],
   "source": []
  },
  {
   "cell_type": "code",
   "execution_count": null,
   "id": "ef6ec1d1-293a-4587-834c-8fc3aa943a31",
   "metadata": {},
   "outputs": [],
   "source": []
  }
 ],
 "metadata": {
  "kernelspec": {
   "display_name": "Python 3 (ipykernel)",
   "language": "python",
   "name": "python3"
  },
  "language_info": {
   "codemirror_mode": {
    "name": "ipython",
    "version": 3
   },
   "file_extension": ".py",
   "mimetype": "text/x-python",
   "name": "python",
   "nbconvert_exporter": "python",
   "pygments_lexer": "ipython3",
   "version": "3.10.11"
  }
 },
 "nbformat": 4,
 "nbformat_minor": 5
}
