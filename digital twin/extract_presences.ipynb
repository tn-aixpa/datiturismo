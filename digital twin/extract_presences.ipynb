{
 "cells": [
  {
   "cell_type": "code",
   "execution_count": 398,
   "id": "bb18418ac776f16d",
   "metadata": {
    "ExecuteTime": {
     "end_time": "2024-11-12T14:18:05.908086Z",
     "start_time": "2024-11-12T14:18:05.903975Z"
    }
   },
   "outputs": [],
   "source": [
    "import pandas as pd\n",
    "import collections\n",
    "import digitalhub as dh\n",
    "from datasets_tourism_dh import *"
   ]
  },
  {
   "cell_type": "raw",
   "id": "e5dca395-6d2f-4611-9b2c-bb2d4d8a0e1b",
   "metadata": {
    "ExecuteTime": {
     "end_time": "2024-11-12T14:18:06.372516Z",
     "start_time": "2024-11-12T14:18:05.917240Z"
    }
   },
   "source": [
    "vodafone_attendences_df = pd.read_parquet(\"../experiments/datasets/vodafone/vodafone_attendences.parquet\", engine='pyarrow')\n",
    "vodafone_attendences_df"
   ]
  },
  {
   "cell_type": "code",
   "execution_count": 399,
   "id": "23d51c5da02c574a",
   "metadata": {
    "ExecuteTime": {
     "end_time": "2024-11-12T14:18:06.376532Z",
     "start_time": "2024-11-12T14:18:06.374134Z"
    }
   },
   "outputs": [],
   "source": [
    "START_DATE = \"2023-07-01\"\n",
    "END_DATE = \"2023-09-30\"\n",
    "\n",
    "LOC_ID_COMUNE_MOLVENO = \"27\"\n",
    "LOC_TYPE_COMUNE_MOLVENO = \"TN_MKT_AL_3\""
   ]
  },
  {
   "cell_type": "code",
   "execution_count": 400,
   "id": "68e141fc2f0628ab",
   "metadata": {
    "ExecuteTime": {
     "end_time": "2024-11-12T14:18:07.748881Z",
     "start_time": "2024-11-12T14:18:06.377506Z"
    }
   },
   "outputs": [
    {
     "data": {
      "text/html": [
       "<div>\n",
       "<style scoped>\n",
       "    .dataframe tbody tr th:only-of-type {\n",
       "        vertical-align: middle;\n",
       "    }\n",
       "\n",
       "    .dataframe tbody tr th {\n",
       "        vertical-align: top;\n",
       "    }\n",
       "\n",
       "    .dataframe thead th {\n",
       "        text-align: right;\n",
       "    }\n",
       "</style>\n",
       "<table border=\"1\" class=\"dataframe\">\n",
       "  <thead>\n",
       "    <tr style=\"text-align: right;\">\n",
       "      <th></th>\n",
       "      <th>date</th>\n",
       "      <th>userProfile</th>\n",
       "      <th>value</th>\n",
       "    </tr>\n",
       "  </thead>\n",
       "  <tbody>\n",
       "    <tr>\n",
       "      <th>2977735</th>\n",
       "      <td>2023-07-01</td>\n",
       "      <td>TOURIST</td>\n",
       "      <td>18</td>\n",
       "    </tr>\n",
       "    <tr>\n",
       "      <th>2977736</th>\n",
       "      <td>2023-07-01</td>\n",
       "      <td>VISITOR</td>\n",
       "      <td>18</td>\n",
       "    </tr>\n",
       "    <tr>\n",
       "      <th>2977744</th>\n",
       "      <td>2023-07-01</td>\n",
       "      <td>TOURIST</td>\n",
       "      <td>108</td>\n",
       "    </tr>\n",
       "    <tr>\n",
       "      <th>2977745</th>\n",
       "      <td>2023-07-01</td>\n",
       "      <td>VISITOR</td>\n",
       "      <td>36</td>\n",
       "    </tr>\n",
       "    <tr>\n",
       "      <th>2977746</th>\n",
       "      <td>2023-07-01</td>\n",
       "      <td>TOURIST</td>\n",
       "      <td>216</td>\n",
       "    </tr>\n",
       "    <tr>\n",
       "      <th>...</th>\n",
       "      <td>...</td>\n",
       "      <td>...</td>\n",
       "      <td>...</td>\n",
       "    </tr>\n",
       "    <tr>\n",
       "      <th>3619685</th>\n",
       "      <td>2023-09-30</td>\n",
       "      <td>TOURIST</td>\n",
       "      <td>929</td>\n",
       "    </tr>\n",
       "    <tr>\n",
       "      <th>3619686</th>\n",
       "      <td>2023-09-30</td>\n",
       "      <td>VISITOR</td>\n",
       "      <td>1358</td>\n",
       "    </tr>\n",
       "    <tr>\n",
       "      <th>3619697</th>\n",
       "      <td>2023-09-30</td>\n",
       "      <td>TOURIST</td>\n",
       "      <td>25</td>\n",
       "    </tr>\n",
       "    <tr>\n",
       "      <th>3619698</th>\n",
       "      <td>2023-09-30</td>\n",
       "      <td>VISITOR</td>\n",
       "      <td>25</td>\n",
       "    </tr>\n",
       "    <tr>\n",
       "      <th>3619699</th>\n",
       "      <td>2023-09-30</td>\n",
       "      <td>TOURIST</td>\n",
       "      <td>22</td>\n",
       "    </tr>\n",
       "  </tbody>\n",
       "</table>\n",
       "<p>1546 rows × 3 columns</p>\n",
       "</div>"
      ],
      "text/plain": [
       "               date userProfile  value\n",
       "2977735  2023-07-01     TOURIST     18\n",
       "2977736  2023-07-01     VISITOR     18\n",
       "2977744  2023-07-01     TOURIST    108\n",
       "2977745  2023-07-01     VISITOR     36\n",
       "2977746  2023-07-01     TOURIST    216\n",
       "...             ...         ...    ...\n",
       "3619685  2023-09-30     TOURIST    929\n",
       "3619686  2023-09-30     VISITOR   1358\n",
       "3619697  2023-09-30     TOURIST     25\n",
       "3619698  2023-09-30     VISITOR     25\n",
       "3619699  2023-09-30     TOURIST     22\n",
       "\n",
       "[1546 rows x 3 columns]"
      ]
     },
     "execution_count": 400,
     "metadata": {},
     "output_type": "execute_result"
    }
   ],
   "source": [
    "attendences_df = vodafone_attendences_df[\n",
    "    (vodafone_attendences_df['date'] >= START_DATE) &\n",
    "    (vodafone_attendences_df['date'] <= END_DATE) &\n",
    "    (vodafone_attendences_df[\"value\"] != 0) &\n",
    "    (vodafone_attendences_df[\"userProfile\"] != 'INHABITANT') &\n",
    "    (vodafone_attendences_df[\"userProfile\"] != 'COMMUTER') &\n",
    "    (vodafone_attendences_df[\"locId\"] == LOC_ID_COMUNE_MOLVENO) &\n",
    "    (vodafone_attendences_df[\"locType\"] == LOC_TYPE_COMUNE_MOLVENO) ]\n",
    "attendences_df = attendences_df[['date','userProfile','value']]\n",
    "attendences_df"
   ]
  },
  {
   "cell_type": "code",
   "execution_count": 401,
   "id": "b5237c542a2c8e0",
   "metadata": {
    "ExecuteTime": {
     "end_time": "2024-11-12T14:18:07.761030Z",
     "start_time": "2024-11-12T14:18:07.750208Z"
    }
   },
   "outputs": [
    {
     "data": {
      "text/html": [
       "<div>\n",
       "<style scoped>\n",
       "    .dataframe tbody tr th:only-of-type {\n",
       "        vertical-align: middle;\n",
       "    }\n",
       "\n",
       "    .dataframe tbody tr th {\n",
       "        vertical-align: top;\n",
       "    }\n",
       "\n",
       "    .dataframe thead th {\n",
       "        text-align: right;\n",
       "    }\n",
       "</style>\n",
       "<table border=\"1\" class=\"dataframe\">\n",
       "  <thead>\n",
       "    <tr style=\"text-align: right;\">\n",
       "      <th></th>\n",
       "      <th>value</th>\n",
       "      <th>weakday</th>\n",
       "    </tr>\n",
       "    <tr>\n",
       "      <th>date</th>\n",
       "      <th></th>\n",
       "      <th></th>\n",
       "    </tr>\n",
       "  </thead>\n",
       "  <tbody>\n",
       "    <tr>\n",
       "      <th>2023-07-01</th>\n",
       "      <td>2924</td>\n",
       "      <td>5</td>\n",
       "    </tr>\n",
       "    <tr>\n",
       "      <th>2023-07-02</th>\n",
       "      <td>2987</td>\n",
       "      <td>6</td>\n",
       "    </tr>\n",
       "    <tr>\n",
       "      <th>2023-07-03</th>\n",
       "      <td>2544</td>\n",
       "      <td>0</td>\n",
       "    </tr>\n",
       "    <tr>\n",
       "      <th>2023-07-04</th>\n",
       "      <td>2547</td>\n",
       "      <td>1</td>\n",
       "    </tr>\n",
       "    <tr>\n",
       "      <th>2023-07-05</th>\n",
       "      <td>2762</td>\n",
       "      <td>2</td>\n",
       "    </tr>\n",
       "    <tr>\n",
       "      <th>...</th>\n",
       "      <td>...</td>\n",
       "      <td>...</td>\n",
       "    </tr>\n",
       "    <tr>\n",
       "      <th>2023-09-26</th>\n",
       "      <td>1183</td>\n",
       "      <td>1</td>\n",
       "    </tr>\n",
       "    <tr>\n",
       "      <th>2023-09-27</th>\n",
       "      <td>1070</td>\n",
       "      <td>2</td>\n",
       "    </tr>\n",
       "    <tr>\n",
       "      <th>2023-09-28</th>\n",
       "      <td>1083</td>\n",
       "      <td>3</td>\n",
       "    </tr>\n",
       "    <tr>\n",
       "      <th>2023-09-29</th>\n",
       "      <td>1526</td>\n",
       "      <td>4</td>\n",
       "    </tr>\n",
       "    <tr>\n",
       "      <th>2023-09-30</th>\n",
       "      <td>1915</td>\n",
       "      <td>5</td>\n",
       "    </tr>\n",
       "  </tbody>\n",
       "</table>\n",
       "<p>92 rows × 2 columns</p>\n",
       "</div>"
      ],
      "text/plain": [
       "            value  weakday\n",
       "date                      \n",
       "2023-07-01   2924        5\n",
       "2023-07-02   2987        6\n",
       "2023-07-03   2544        0\n",
       "2023-07-04   2547        1\n",
       "2023-07-05   2762        2\n",
       "...           ...      ...\n",
       "2023-09-26   1183        1\n",
       "2023-09-27   1070        2\n",
       "2023-09-28   1083        3\n",
       "2023-09-29   1526        4\n",
       "2023-09-30   1915        5\n",
       "\n",
       "[92 rows x 2 columns]"
      ]
     },
     "execution_count": 401,
     "metadata": {},
     "output_type": "execute_result"
    }
   ],
   "source": [
    "tourist_attendences_df = attendences_df[attendences_df['userProfile'] == \"TOURIST\"][['date','value']].groupby('date').sum()\n",
    "tourist_attendences_df['weakday'] = pd.to_datetime(tourist_attendences_df.index).weekday\n",
    "tourist_attendences_df"
   ]
  },
  {
   "cell_type": "code",
   "execution_count": 402,
   "id": "e493ac3a9243dd9d",
   "metadata": {
    "ExecuteTime": {
     "end_time": "2024-11-12T14:18:07.772122Z",
     "start_time": "2024-11-12T14:18:07.761742Z"
    }
   },
   "outputs": [
    {
     "data": {
      "text/html": [
       "<div>\n",
       "<style scoped>\n",
       "    .dataframe tbody tr th:only-of-type {\n",
       "        vertical-align: middle;\n",
       "    }\n",
       "\n",
       "    .dataframe tbody tr th {\n",
       "        vertical-align: top;\n",
       "    }\n",
       "\n",
       "    .dataframe thead th {\n",
       "        text-align: right;\n",
       "    }\n",
       "</style>\n",
       "<table border=\"1\" class=\"dataframe\">\n",
       "  <thead>\n",
       "    <tr style=\"text-align: right;\">\n",
       "      <th></th>\n",
       "      <th>value</th>\n",
       "      <th>weakday</th>\n",
       "    </tr>\n",
       "    <tr>\n",
       "      <th>date</th>\n",
       "      <th></th>\n",
       "      <th></th>\n",
       "    </tr>\n",
       "  </thead>\n",
       "  <tbody>\n",
       "    <tr>\n",
       "      <th>2023-07-01</th>\n",
       "      <td>1944</td>\n",
       "      <td>5</td>\n",
       "    </tr>\n",
       "    <tr>\n",
       "      <th>2023-07-02</th>\n",
       "      <td>4300</td>\n",
       "      <td>6</td>\n",
       "    </tr>\n",
       "    <tr>\n",
       "      <th>2023-07-03</th>\n",
       "      <td>2413</td>\n",
       "      <td>0</td>\n",
       "    </tr>\n",
       "    <tr>\n",
       "      <th>2023-07-04</th>\n",
       "      <td>1958</td>\n",
       "      <td>1</td>\n",
       "    </tr>\n",
       "    <tr>\n",
       "      <th>2023-07-05</th>\n",
       "      <td>2167</td>\n",
       "      <td>2</td>\n",
       "    </tr>\n",
       "    <tr>\n",
       "      <th>...</th>\n",
       "      <td>...</td>\n",
       "      <td>...</td>\n",
       "    </tr>\n",
       "    <tr>\n",
       "      <th>2023-09-26</th>\n",
       "      <td>763</td>\n",
       "      <td>1</td>\n",
       "    </tr>\n",
       "    <tr>\n",
       "      <th>2023-09-27</th>\n",
       "      <td>899</td>\n",
       "      <td>2</td>\n",
       "    </tr>\n",
       "    <tr>\n",
       "      <th>2023-09-28</th>\n",
       "      <td>1089</td>\n",
       "      <td>3</td>\n",
       "    </tr>\n",
       "    <tr>\n",
       "      <th>2023-09-29</th>\n",
       "      <td>703</td>\n",
       "      <td>4</td>\n",
       "    </tr>\n",
       "    <tr>\n",
       "      <th>2023-09-30</th>\n",
       "      <td>1815</td>\n",
       "      <td>5</td>\n",
       "    </tr>\n",
       "  </tbody>\n",
       "</table>\n",
       "<p>92 rows × 2 columns</p>\n",
       "</div>"
      ],
      "text/plain": [
       "            value  weakday\n",
       "date                      \n",
       "2023-07-01   1944        5\n",
       "2023-07-02   4300        6\n",
       "2023-07-03   2413        0\n",
       "2023-07-04   1958        1\n",
       "2023-07-05   2167        2\n",
       "...           ...      ...\n",
       "2023-09-26    763        1\n",
       "2023-09-27    899        2\n",
       "2023-09-28   1089        3\n",
       "2023-09-29    703        4\n",
       "2023-09-30   1815        5\n",
       "\n",
       "[92 rows x 2 columns]"
      ]
     },
     "execution_count": 402,
     "metadata": {},
     "output_type": "execute_result"
    }
   ],
   "source": [
    "excursionist_attendences_df = attendences_df[attendences_df['userProfile'] == \"VISITOR\"][['date','value']].groupby('date').sum()\n",
    "excursionist_attendences_df['weakday'] = pd.to_datetime(excursionist_attendences_df.index).weekday\n",
    "excursionist_attendences_df"
   ]
  },
  {
   "cell_type": "raw",
   "id": "1bb6749e-b42b-4a9a-b4bf-6168fe224a8c",
   "metadata": {
    "ExecuteTime": {
     "end_time": "2024-11-12T14:18:07.793991Z",
     "start_time": "2024-11-12T14:18:07.773051Z"
    },
    "scrolled": true
   },
   "source": [
    "meteotrentino_bollettino_df = pd.read_parquet(\"../experiments/datasets/meteo/meteotrentino_bollettino.parquet\", engine='pyarrow')\n",
    "meteotrentino_bollettino_df"
   ]
  },
  {
   "cell_type": "markdown",
   "id": "360fa112-22f9-4778-874e-979315e20e87",
   "metadata": {},
   "source": [
    "# Meteo "
   ]
  },
  {
   "cell_type": "code",
   "execution_count": 403,
   "id": "0a47afc2-d2d2-4663-93c2-55292809ceee",
   "metadata": {},
   "outputs": [],
   "source": [
    "FEATURE = \"probprec06-12\" #\"meteo\" #\"intprec06-12\" #\"probprec12-18\" # probprec06-12"
   ]
  },
  {
   "cell_type": "code",
   "execution_count": 404,
   "id": "1fbfbc64-7f6c-4d2b-9a76-48ae7f6192a6",
   "metadata": {},
   "outputs": [
    {
     "name": "stdout",
     "output_type": "stream",
     "text": [
      "ambiti: ['TRENTO' 'MADONNA' 'FIEMME' 'ALTIPIANO' 'VALDINON' 'DOLOMITI' 'VALSUGANA'\n",
      " 'GARDA' 'ROVERETO' None 'SMARTINO' 'VALDISOLE']\n",
      "comuni: [\"BASELGA DI PINE'\" 'CANAZEI' 'CAVALESE' 'FOLGARIA' 'FONDO' \"MALE'\"\n",
      " 'MEZZOLOMBARDO' 'MOLVENO' 'PERGINE VALSUGANA' 'PINZOLO' 'RIVA DEL GARDA'\n",
      " 'ROVERETO' \"SANT'ORSOLA\" 'TIONE DI TRENTO' 'TRENTO' 'COMANO TERME'\n",
      " 'BEZZECCA' 'PIEVE DI BONO' 'CENTA SAN NICOLO' 'SAN MARTINO DI CASTROZZA'\n",
      " 'ARCO' 'MEZZANO']\n"
     ]
    }
   ],
   "source": [
    "ambiti = meteotrentino_bollettino_df[\"ambito\"].unique()\n",
    "comuni = meteotrentino_bollettino_df[\"comune\"].unique()\n",
    "print(f\"ambiti: {ambiti}\")\n",
    "print(f\"comuni: {comuni}\")"
   ]
  },
  {
   "cell_type": "code",
   "execution_count": 405,
   "id": "a27c6a38-6c55-4215-9a89-33d8000068ba",
   "metadata": {},
   "outputs": [],
   "source": [
    "# Weather nearby Molveno\n",
    "meteo_comune_near_molveno = meteotrentino_bollettino_df[\n",
    "    ((meteotrentino_bollettino_df[\"comune\"] == \"TRENTO\") |\n",
    "     (meteotrentino_bollettino_df[\"comune\"].str.contains(\"MEZZOLOMBARDO\")) |\n",
    "     (meteotrentino_bollettino_df[\"comune\"].str.contains(\"PERGINE VALSUGANA\"))\n",
    "     ) & (meteotrentino_bollettino_df[\"data\"] >= START_DATE) &\n",
    "         (meteotrentino_bollettino_df[\"data\"] <= END_DATE)\n",
    "]"
   ]
  },
  {
   "cell_type": "code",
   "execution_count": 424,
   "id": "3d82f6455fa0559c",
   "metadata": {
    "ExecuteTime": {
     "end_time": "2024-11-12T14:18:07.819065Z",
     "start_time": "2024-11-12T14:18:07.795063Z"
    }
   },
   "outputs": [],
   "source": [
    "# Weather in Molveno\n",
    "meteo_df = meteotrentino_bollettino_df[\n",
    "    (meteotrentino_bollettino_df[\"comune\"].str.contains(\"MOLVENO\")) &\n",
    "    (meteotrentino_bollettino_df[\"data\"] >= START_DATE) &\n",
    "    (meteotrentino_bollettino_df[\"data\"] <= END_DATE)\n",
    "][['data', FEATURE, \"tmax\"]].set_index('data')\n",
    "meteo_molveno_df = meteo_df.reset_index()"
   ]
  },
  {
   "cell_type": "markdown",
   "id": "08b54493-d75b-4e54-900a-3e13c24ea71a",
   "metadata": {},
   "source": [
    "## Data imputation\n",
    "Fill in the missing values of weather with the values taken from comune near Molveno"
   ]
  },
  {
   "cell_type": "code",
   "execution_count": 430,
   "id": "a0fdf41c-ce6d-4414-aa16-37dc185aceb2",
   "metadata": {},
   "outputs": [
    {
     "data": {
      "text/html": [
       "<div>\n",
       "<style scoped>\n",
       "    .dataframe tbody tr th:only-of-type {\n",
       "        vertical-align: middle;\n",
       "    }\n",
       "\n",
       "    .dataframe tbody tr th {\n",
       "        vertical-align: top;\n",
       "    }\n",
       "\n",
       "    .dataframe thead th {\n",
       "        text-align: right;\n",
       "    }\n",
       "</style>\n",
       "<table border=\"1\" class=\"dataframe\">\n",
       "  <thead>\n",
       "    <tr style=\"text-align: right;\">\n",
       "      <th></th>\n",
       "      <th>tmax</th>\n",
       "    </tr>\n",
       "  </thead>\n",
       "  <tbody>\n",
       "    <tr>\n",
       "      <th>count</th>\n",
       "      <td>52.000000</td>\n",
       "    </tr>\n",
       "    <tr>\n",
       "      <th>mean</th>\n",
       "      <td>25.019231</td>\n",
       "    </tr>\n",
       "    <tr>\n",
       "      <th>std</th>\n",
       "      <td>3.775517</td>\n",
       "    </tr>\n",
       "    <tr>\n",
       "      <th>min</th>\n",
       "      <td>15.000000</td>\n",
       "    </tr>\n",
       "    <tr>\n",
       "      <th>25%</th>\n",
       "      <td>22.750000</td>\n",
       "    </tr>\n",
       "    <tr>\n",
       "      <th>50%</th>\n",
       "      <td>25.000000</td>\n",
       "    </tr>\n",
       "    <tr>\n",
       "      <th>75%</th>\n",
       "      <td>28.000000</td>\n",
       "    </tr>\n",
       "    <tr>\n",
       "      <th>max</th>\n",
       "      <td>32.000000</td>\n",
       "    </tr>\n",
       "  </tbody>\n",
       "</table>\n",
       "</div>"
      ],
      "text/plain": [
       "            tmax\n",
       "count  52.000000\n",
       "mean   25.019231\n",
       "std     3.775517\n",
       "min    15.000000\n",
       "25%    22.750000\n",
       "50%    25.000000\n",
       "75%    28.000000\n",
       "max    32.000000"
      ]
     },
     "execution_count": 430,
     "metadata": {},
     "output_type": "execute_result"
    }
   ],
   "source": [
    "meteo_df.describe()"
   ]
  },
  {
   "cell_type": "code",
   "execution_count": 436,
   "id": "83245319-87c9-469b-aafb-dad96948062c",
   "metadata": {},
   "outputs": [],
   "source": [
    "def mapping_temp_val(tmax):\n",
    "    if tmax>=28:\n",
    "        return \"Caldo\"\n",
    "    elif tmax<=22:\n",
    "        return \"Freddo\"\n",
    "    else:\n",
    "        return \"Normale\""
   ]
  },
  {
   "cell_type": "code",
   "execution_count": 437,
   "id": "5a348539-5a95-4bbc-933c-99b0c3b402d9",
   "metadata": {},
   "outputs": [
    {
     "data": {
      "text/html": [
       "<div>\n",
       "<style scoped>\n",
       "    .dataframe tbody tr th:only-of-type {\n",
       "        vertical-align: middle;\n",
       "    }\n",
       "\n",
       "    .dataframe tbody tr th {\n",
       "        vertical-align: top;\n",
       "    }\n",
       "\n",
       "    .dataframe thead th {\n",
       "        text-align: right;\n",
       "    }\n",
       "</style>\n",
       "<table border=\"1\" class=\"dataframe\">\n",
       "  <thead>\n",
       "    <tr style=\"text-align: right;\">\n",
       "      <th></th>\n",
       "      <th>probprec06-12</th>\n",
       "      <th>tmax</th>\n",
       "      <th>tmax_group</th>\n",
       "    </tr>\n",
       "    <tr>\n",
       "      <th>data</th>\n",
       "      <th></th>\n",
       "      <th></th>\n",
       "      <th></th>\n",
       "    </tr>\n",
       "  </thead>\n",
       "  <tbody>\n",
       "    <tr>\n",
       "      <th>2023-07-01</th>\n",
       "      <td>media</td>\n",
       "      <td>24</td>\n",
       "      <td>Normale</td>\n",
       "    </tr>\n",
       "    <tr>\n",
       "      <th>2023-07-04</th>\n",
       "      <td>molto bassa</td>\n",
       "      <td>23</td>\n",
       "      <td>Normale</td>\n",
       "    </tr>\n",
       "    <tr>\n",
       "      <th>2023-07-06</th>\n",
       "      <td>media</td>\n",
       "      <td>23</td>\n",
       "      <td>Normale</td>\n",
       "    </tr>\n",
       "    <tr>\n",
       "      <th>2023-07-08</th>\n",
       "      <td>media</td>\n",
       "      <td>26</td>\n",
       "      <td>Normale</td>\n",
       "    </tr>\n",
       "    <tr>\n",
       "      <th>2023-07-11</th>\n",
       "      <td>molto bassa</td>\n",
       "      <td>31</td>\n",
       "      <td>Caldo</td>\n",
       "    </tr>\n",
       "    <tr>\n",
       "      <th>2023-07-14</th>\n",
       "      <td>molto bassa</td>\n",
       "      <td>26</td>\n",
       "      <td>Normale</td>\n",
       "    </tr>\n",
       "    <tr>\n",
       "      <th>2023-07-15</th>\n",
       "      <td>molto bassa</td>\n",
       "      <td>27</td>\n",
       "      <td>Normale</td>\n",
       "    </tr>\n",
       "    <tr>\n",
       "      <th>2023-07-16</th>\n",
       "      <td>molto bassa</td>\n",
       "      <td>27</td>\n",
       "      <td>Normale</td>\n",
       "    </tr>\n",
       "    <tr>\n",
       "      <th>2023-07-17</th>\n",
       "      <td>molto bassa</td>\n",
       "      <td>28</td>\n",
       "      <td>Caldo</td>\n",
       "    </tr>\n",
       "    <tr>\n",
       "      <th>2023-07-19</th>\n",
       "      <td>bassa</td>\n",
       "      <td>28</td>\n",
       "      <td>Caldo</td>\n",
       "    </tr>\n",
       "    <tr>\n",
       "      <th>2023-07-22</th>\n",
       "      <td>bassa</td>\n",
       "      <td>24</td>\n",
       "      <td>Normale</td>\n",
       "    </tr>\n",
       "    <tr>\n",
       "      <th>2023-07-23</th>\n",
       "      <td>--</td>\n",
       "      <td>25</td>\n",
       "      <td>Normale</td>\n",
       "    </tr>\n",
       "    <tr>\n",
       "      <th>2023-07-24</th>\n",
       "      <td>molto bassa</td>\n",
       "      <td>27</td>\n",
       "      <td>Normale</td>\n",
       "    </tr>\n",
       "    <tr>\n",
       "      <th>2023-07-25</th>\n",
       "      <td>alta</td>\n",
       "      <td>23</td>\n",
       "      <td>Normale</td>\n",
       "    </tr>\n",
       "    <tr>\n",
       "      <th>2023-07-28</th>\n",
       "      <td>--</td>\n",
       "      <td>28</td>\n",
       "      <td>Caldo</td>\n",
       "    </tr>\n",
       "    <tr>\n",
       "      <th>2023-07-29</th>\n",
       "      <td>--</td>\n",
       "      <td>27</td>\n",
       "      <td>Normale</td>\n",
       "    </tr>\n",
       "    <tr>\n",
       "      <th>2023-08-02</th>\n",
       "      <td>--</td>\n",
       "      <td>24</td>\n",
       "      <td>Normale</td>\n",
       "    </tr>\n",
       "    <tr>\n",
       "      <th>2023-08-03</th>\n",
       "      <td>molto bassa</td>\n",
       "      <td>23</td>\n",
       "      <td>Normale</td>\n",
       "    </tr>\n",
       "    <tr>\n",
       "      <th>2023-08-05</th>\n",
       "      <td>bassa</td>\n",
       "      <td>21</td>\n",
       "      <td>Freddo</td>\n",
       "    </tr>\n",
       "    <tr>\n",
       "      <th>2023-08-06</th>\n",
       "      <td>bassa</td>\n",
       "      <td>21</td>\n",
       "      <td>Freddo</td>\n",
       "    </tr>\n",
       "    <tr>\n",
       "      <th>2023-08-07</th>\n",
       "      <td>molto bassa</td>\n",
       "      <td>20</td>\n",
       "      <td>Freddo</td>\n",
       "    </tr>\n",
       "    <tr>\n",
       "      <th>2023-08-11</th>\n",
       "      <td>molto bassa</td>\n",
       "      <td>27</td>\n",
       "      <td>Normale</td>\n",
       "    </tr>\n",
       "    <tr>\n",
       "      <th>2023-08-12</th>\n",
       "      <td>molto bassa</td>\n",
       "      <td>26</td>\n",
       "      <td>Normale</td>\n",
       "    </tr>\n",
       "    <tr>\n",
       "      <th>2023-08-14</th>\n",
       "      <td>molto bassa</td>\n",
       "      <td>28</td>\n",
       "      <td>Caldo</td>\n",
       "    </tr>\n",
       "    <tr>\n",
       "      <th>2023-08-17</th>\n",
       "      <td>molto bassa</td>\n",
       "      <td>28</td>\n",
       "      <td>Caldo</td>\n",
       "    </tr>\n",
       "    <tr>\n",
       "      <th>2023-08-18</th>\n",
       "      <td>molto bassa</td>\n",
       "      <td>28</td>\n",
       "      <td>Caldo</td>\n",
       "    </tr>\n",
       "    <tr>\n",
       "      <th>2023-08-19</th>\n",
       "      <td>molto bassa</td>\n",
       "      <td>29</td>\n",
       "      <td>Caldo</td>\n",
       "    </tr>\n",
       "    <tr>\n",
       "      <th>2023-08-20</th>\n",
       "      <td>molto bassa</td>\n",
       "      <td>30</td>\n",
       "      <td>Caldo</td>\n",
       "    </tr>\n",
       "    <tr>\n",
       "      <th>2023-08-21</th>\n",
       "      <td>molto bassa</td>\n",
       "      <td>31</td>\n",
       "      <td>Caldo</td>\n",
       "    </tr>\n",
       "    <tr>\n",
       "      <th>2023-08-22</th>\n",
       "      <td>molto bassa</td>\n",
       "      <td>31</td>\n",
       "      <td>Caldo</td>\n",
       "    </tr>\n",
       "    <tr>\n",
       "      <th>2023-08-24</th>\n",
       "      <td>molto bassa</td>\n",
       "      <td>32</td>\n",
       "      <td>Caldo</td>\n",
       "    </tr>\n",
       "    <tr>\n",
       "      <th>2023-08-25</th>\n",
       "      <td>molto bassa</td>\n",
       "      <td>32</td>\n",
       "      <td>Caldo</td>\n",
       "    </tr>\n",
       "    <tr>\n",
       "      <th>2023-08-26</th>\n",
       "      <td>bassa</td>\n",
       "      <td>31</td>\n",
       "      <td>Caldo</td>\n",
       "    </tr>\n",
       "    <tr>\n",
       "      <th>2023-08-28</th>\n",
       "      <td>alta</td>\n",
       "      <td>22</td>\n",
       "      <td>Freddo</td>\n",
       "    </tr>\n",
       "    <tr>\n",
       "      <th>2023-08-30</th>\n",
       "      <td>bassa</td>\n",
       "      <td>18</td>\n",
       "      <td>Freddo</td>\n",
       "    </tr>\n",
       "    <tr>\n",
       "      <th>2023-09-01</th>\n",
       "      <td>molto bassa</td>\n",
       "      <td>22</td>\n",
       "      <td>Freddo</td>\n",
       "    </tr>\n",
       "    <tr>\n",
       "      <th>2023-09-02</th>\n",
       "      <td>molto bassa</td>\n",
       "      <td>23</td>\n",
       "      <td>Normale</td>\n",
       "    </tr>\n",
       "    <tr>\n",
       "      <th>2023-09-03</th>\n",
       "      <td>molto bassa</td>\n",
       "      <td>25</td>\n",
       "      <td>Normale</td>\n",
       "    </tr>\n",
       "    <tr>\n",
       "      <th>2023-09-06</th>\n",
       "      <td>--</td>\n",
       "      <td>25</td>\n",
       "      <td>Normale</td>\n",
       "    </tr>\n",
       "    <tr>\n",
       "      <th>2023-09-08</th>\n",
       "      <td>--</td>\n",
       "      <td>25</td>\n",
       "      <td>Normale</td>\n",
       "    </tr>\n",
       "    <tr>\n",
       "      <th>2023-09-09</th>\n",
       "      <td>--</td>\n",
       "      <td>26</td>\n",
       "      <td>Normale</td>\n",
       "    </tr>\n",
       "    <tr>\n",
       "      <th>2023-09-11</th>\n",
       "      <td>--</td>\n",
       "      <td>26</td>\n",
       "      <td>Normale</td>\n",
       "    </tr>\n",
       "    <tr>\n",
       "      <th>2023-09-14</th>\n",
       "      <td>bassa</td>\n",
       "      <td>22</td>\n",
       "      <td>Freddo</td>\n",
       "    </tr>\n",
       "    <tr>\n",
       "      <th>2023-09-15</th>\n",
       "      <td>bassa</td>\n",
       "      <td>20</td>\n",
       "      <td>Freddo</td>\n",
       "    </tr>\n",
       "    <tr>\n",
       "      <th>2023-09-16</th>\n",
       "      <td>molto bassa</td>\n",
       "      <td>21</td>\n",
       "      <td>Freddo</td>\n",
       "    </tr>\n",
       "    <tr>\n",
       "      <th>2023-09-19</th>\n",
       "      <td>molto bassa</td>\n",
       "      <td>22</td>\n",
       "      <td>Freddo</td>\n",
       "    </tr>\n",
       "    <tr>\n",
       "      <th>2023-09-20</th>\n",
       "      <td>molto bassa</td>\n",
       "      <td>20</td>\n",
       "      <td>Freddo</td>\n",
       "    </tr>\n",
       "    <tr>\n",
       "      <th>2023-09-22</th>\n",
       "      <td>alta</td>\n",
       "      <td>15</td>\n",
       "      <td>Freddo</td>\n",
       "    </tr>\n",
       "    <tr>\n",
       "      <th>2023-09-24</th>\n",
       "      <td>--</td>\n",
       "      <td>20</td>\n",
       "      <td>Freddo</td>\n",
       "    </tr>\n",
       "    <tr>\n",
       "      <th>2023-09-25</th>\n",
       "      <td>--</td>\n",
       "      <td>23</td>\n",
       "      <td>Normale</td>\n",
       "    </tr>\n",
       "    <tr>\n",
       "      <th>2023-09-29</th>\n",
       "      <td>--</td>\n",
       "      <td>23</td>\n",
       "      <td>Normale</td>\n",
       "    </tr>\n",
       "    <tr>\n",
       "      <th>2023-09-30</th>\n",
       "      <td>--</td>\n",
       "      <td>24</td>\n",
       "      <td>Normale</td>\n",
       "    </tr>\n",
       "  </tbody>\n",
       "</table>\n",
       "</div>"
      ],
      "text/plain": [
       "           probprec06-12  tmax tmax_group\n",
       "data                                     \n",
       "2023-07-01         media    24    Normale\n",
       "2023-07-04   molto bassa    23    Normale\n",
       "2023-07-06         media    23    Normale\n",
       "2023-07-08         media    26    Normale\n",
       "2023-07-11   molto bassa    31      Caldo\n",
       "2023-07-14   molto bassa    26    Normale\n",
       "2023-07-15   molto bassa    27    Normale\n",
       "2023-07-16   molto bassa    27    Normale\n",
       "2023-07-17   molto bassa    28      Caldo\n",
       "2023-07-19         bassa    28      Caldo\n",
       "2023-07-22         bassa    24    Normale\n",
       "2023-07-23            --    25    Normale\n",
       "2023-07-24   molto bassa    27    Normale\n",
       "2023-07-25          alta    23    Normale\n",
       "2023-07-28            --    28      Caldo\n",
       "2023-07-29            --    27    Normale\n",
       "2023-08-02            --    24    Normale\n",
       "2023-08-03   molto bassa    23    Normale\n",
       "2023-08-05         bassa    21     Freddo\n",
       "2023-08-06         bassa    21     Freddo\n",
       "2023-08-07   molto bassa    20     Freddo\n",
       "2023-08-11   molto bassa    27    Normale\n",
       "2023-08-12   molto bassa    26    Normale\n",
       "2023-08-14   molto bassa    28      Caldo\n",
       "2023-08-17   molto bassa    28      Caldo\n",
       "2023-08-18   molto bassa    28      Caldo\n",
       "2023-08-19   molto bassa    29      Caldo\n",
       "2023-08-20   molto bassa    30      Caldo\n",
       "2023-08-21   molto bassa    31      Caldo\n",
       "2023-08-22   molto bassa    31      Caldo\n",
       "2023-08-24   molto bassa    32      Caldo\n",
       "2023-08-25   molto bassa    32      Caldo\n",
       "2023-08-26         bassa    31      Caldo\n",
       "2023-08-28          alta    22     Freddo\n",
       "2023-08-30         bassa    18     Freddo\n",
       "2023-09-01   molto bassa    22     Freddo\n",
       "2023-09-02   molto bassa    23    Normale\n",
       "2023-09-03   molto bassa    25    Normale\n",
       "2023-09-06            --    25    Normale\n",
       "2023-09-08            --    25    Normale\n",
       "2023-09-09            --    26    Normale\n",
       "2023-09-11            --    26    Normale\n",
       "2023-09-14         bassa    22     Freddo\n",
       "2023-09-15         bassa    20     Freddo\n",
       "2023-09-16   molto bassa    21     Freddo\n",
       "2023-09-19   molto bassa    22     Freddo\n",
       "2023-09-20   molto bassa    20     Freddo\n",
       "2023-09-22          alta    15     Freddo\n",
       "2023-09-24            --    20     Freddo\n",
       "2023-09-25            --    23    Normale\n",
       "2023-09-29            --    23    Normale\n",
       "2023-09-30            --    24    Normale"
      ]
     },
     "execution_count": 437,
     "metadata": {},
     "output_type": "execute_result"
    }
   ],
   "source": [
    "meteo_df[\"tmax_group\"] = meteo_df[\"tmax\"].map(mapping_temp_val)\n",
    "meteo_df"
   ]
  },
  {
   "cell_type": "code",
   "execution_count": 438,
   "id": "04894a29-96c7-4b4e-afeb-537b7d2be35b",
   "metadata": {},
   "outputs": [
    {
     "data": {
      "text/plain": [
       "(52, 3)"
      ]
     },
     "execution_count": 438,
     "metadata": {},
     "output_type": "execute_result"
    }
   ],
   "source": [
    "meteo_df.shape"
   ]
  },
  {
   "cell_type": "code",
   "execution_count": 439,
   "id": "c3c72041-356f-4972-8590-ee27c2731361",
   "metadata": {},
   "outputs": [],
   "source": [
    "comune_near_importance_order = [\"MEZZOLOMBARDO\", \"PERGINE VALSUGANA\", \"TRENTO\"]\n",
    "# format the categorical data \n",
    "meteo_comune_near_molveno[\"comune\"] = pd.Categorical(meteo_comune_near_molveno[\"comune\"], categories = comune_near_importance_order)\n",
    "meteo_comune_near_molveno = meteo_comune_near_molveno.sort_values(by = \"comune\")"
   ]
  },
  {
   "cell_type": "code",
   "execution_count": 440,
   "id": "a7477d75-fed9-47a7-8393-5b8941810f3d",
   "metadata": {},
   "outputs": [
    {
     "data": {
      "text/plain": [
       "{'2023-07-02',\n",
       " '2023-07-03',\n",
       " '2023-08-16',\n",
       " '2023-09-07',\n",
       " '2023-09-23',\n",
       " '2023-09-26'}"
      ]
     },
     "execution_count": 440,
     "metadata": {},
     "output_type": "execute_result"
    }
   ],
   "source": [
    "missing_dates = set(meteo_comune_near_molveno[\"data\"]) - set(meteo_df.index)\n",
    "missing_dates"
   ]
  },
  {
   "cell_type": "code",
   "execution_count": 441,
   "id": "cb62ab9b-b6b4-4e7a-8c09-7bca76b6563e",
   "metadata": {},
   "outputs": [
    {
     "data": {
      "text/html": [
       "<div>\n",
       "<style scoped>\n",
       "    .dataframe tbody tr th:only-of-type {\n",
       "        vertical-align: middle;\n",
       "    }\n",
       "\n",
       "    .dataframe tbody tr th {\n",
       "        vertical-align: top;\n",
       "    }\n",
       "\n",
       "    .dataframe thead th {\n",
       "        text-align: right;\n",
       "    }\n",
       "</style>\n",
       "<table border=\"1\" class=\"dataframe\">\n",
       "  <thead>\n",
       "    <tr style=\"text-align: right;\">\n",
       "      <th></th>\n",
       "      <th>data</th>\n",
       "      <th>probprec06-12</th>\n",
       "    </tr>\n",
       "  </thead>\n",
       "  <tbody>\n",
       "    <tr>\n",
       "      <th>0</th>\n",
       "      <td>2023-09-07</td>\n",
       "      <td>--</td>\n",
       "    </tr>\n",
       "    <tr>\n",
       "      <th>1</th>\n",
       "      <td>2023-09-23</td>\n",
       "      <td>molto bassa</td>\n",
       "    </tr>\n",
       "    <tr>\n",
       "      <th>2</th>\n",
       "      <td>2023-07-03</td>\n",
       "      <td>bassa</td>\n",
       "    </tr>\n",
       "    <tr>\n",
       "      <th>3</th>\n",
       "      <td>2023-08-16</td>\n",
       "      <td>molto bassa</td>\n",
       "    </tr>\n",
       "    <tr>\n",
       "      <th>4</th>\n",
       "      <td>2023-09-26</td>\n",
       "      <td>--</td>\n",
       "    </tr>\n",
       "    <tr>\n",
       "      <th>5</th>\n",
       "      <td>2023-07-02</td>\n",
       "      <td>molto bassa</td>\n",
       "    </tr>\n",
       "  </tbody>\n",
       "</table>\n",
       "</div>"
      ],
      "text/plain": [
       "         data probprec06-12\n",
       "0  2023-09-07            --\n",
       "1  2023-09-23   molto bassa\n",
       "2  2023-07-03         bassa\n",
       "3  2023-08-16   molto bassa\n",
       "4  2023-09-26            --\n",
       "5  2023-07-02   molto bassa"
      ]
     },
     "execution_count": 441,
     "metadata": {},
     "output_type": "execute_result"
    }
   ],
   "source": [
    "filled_missing_dates = []\n",
    "for curr_date in missing_dates:    \n",
    "    rows = meteo_comune_near_molveno[meteo_comune_near_molveno[\"data\"] == curr_date]\n",
    "    rows = rows.sort_values(by = \"comune\")\n",
    "    filled_missing_dates.append({\"data\": rows.iloc[0, :].to_dict()[\"data\"],\n",
    "                        \"probprec06-12\": rows.iloc[0, :].to_dict()[\"probprec06-12\"]})\n",
    "filled_missing_dates = pd.DataFrame(data=filled_missing_dates)\n",
    "filled_missing_dates"
   ]
  },
  {
   "cell_type": "code",
   "execution_count": 442,
   "id": "834bc3fa-5a2f-499e-8404-d2829f496bda",
   "metadata": {},
   "outputs": [],
   "source": [
    "def data_imputation_weather(nearby_weather, target_weather):\n",
    "    \"\"\"\n",
    "    Filling in missing weather data for specific  days\n",
    "    \"\"\"\n",
    "    missing_dates = set(nearby_weather[\"data\"]) - set(target_weather.index)\n",
    "    comune_near_importance_order = [\"MEZZOLOMBARDO\", \"PERGINE VALSUGANA\", \"TRENTO\"]\n",
    "    # format the categorical data \n",
    "    nearby_weather[\"comune\"] = pd.Categorical(nearby_weather[\"comune\"], categories = comune_near_importance_order)\n",
    "    nearby_weather = nearby_weather.sort_values(by = \"comune\")\n",
    "    filled_missing_dates = []\n",
    "    for curr_date in missing_dates:    \n",
    "        rows = nearby_weather[nearby_weather[\"data\"] == curr_date]\n",
    "        rows = rows.sort_values(by = \"comune\")\n",
    "        filled_missing_dates.append({\"data\": rows.iloc[0, :].to_dict()[\"data\"],\n",
    "                            \"probprec06-12\": rows.iloc[0, :].to_dict()[\"probprec06-12\"]})\n",
    "    filled_missing_dates = pd.DataFrame(data=filled_missing_dates)\n",
    "    return filled_missing_dates\n",
    "resulting_data = data_imputation_weather(meteo_comune_near_molveno, meteo_df)\n",
    "resulting_data = resulting_data.set_index(\"data\")"
   ]
  },
  {
   "cell_type": "code",
   "execution_count": 443,
   "id": "9bb200e8-ce9a-4973-8c71-0fb941101d18",
   "metadata": {},
   "outputs": [
    {
     "data": {
      "text/plain": [
       "(58, 3)"
      ]
     },
     "execution_count": 443,
     "metadata": {},
     "output_type": "execute_result"
    }
   ],
   "source": [
    "meteo_df2 = pd.concat([meteo_df, resulting_data], axis=0)\n",
    "meteo_df2.shape"
   ]
  },
  {
   "cell_type": "code",
   "execution_count": 444,
   "id": "8c68bbea-cce9-443c-8ec8-062aebdb2c11",
   "metadata": {},
   "outputs": [],
   "source": [
    "FEATURE = \"tmax_group\""
   ]
  },
  {
   "cell_type": "code",
   "execution_count": 446,
   "id": "3c90cc0f14a4b516",
   "metadata": {
    "ExecuteTime": {
     "end_time": "2024-11-12T14:18:07.830847Z",
     "start_time": "2024-11-12T14:18:07.819952Z"
    }
   },
   "outputs": [
    {
     "data": {
      "text/plain": [
       "{'Normale': 0.4807692307692308, 'Caldo': 0.2692307692307692, 'Freddo': 0.25}"
      ]
     },
     "execution_count": 446,
     "metadata": {},
     "output_type": "execute_result"
    }
   ],
   "source": [
    "freq = dict(collections.Counter(meteo_df[FEATURE].values))\n",
    "#freq.pop('--')\n",
    "\n",
    "size = sum(freq.values())\n",
    "meteo_dist = { k: v/size for k,v in freq.items() }\n",
    "\n",
    "meteo_dist"
   ]
  },
  {
   "cell_type": "code",
   "execution_count": 447,
   "id": "e84f0204a9a259eb",
   "metadata": {
    "ExecuteTime": {
     "end_time": "2024-11-12T14:18:07.852632Z",
     "start_time": "2024-11-12T14:18:07.831839Z"
    }
   },
   "outputs": [
    {
     "data": {
      "text/html": [
       "<div>\n",
       "<style scoped>\n",
       "    .dataframe tbody tr th:only-of-type {\n",
       "        vertical-align: middle;\n",
       "    }\n",
       "\n",
       "    .dataframe tbody tr th {\n",
       "        vertical-align: top;\n",
       "    }\n",
       "\n",
       "    .dataframe thead th {\n",
       "        text-align: right;\n",
       "    }\n",
       "</style>\n",
       "<table border=\"1\" class=\"dataframe\">\n",
       "  <thead>\n",
       "    <tr style=\"text-align: right;\">\n",
       "      <th></th>\n",
       "      <th>value</th>\n",
       "      <th>weakday</th>\n",
       "      <th>probprec06-12</th>\n",
       "      <th>tmax</th>\n",
       "      <th>tmax_group</th>\n",
       "    </tr>\n",
       "  </thead>\n",
       "  <tbody>\n",
       "    <tr>\n",
       "      <th>2023-07-01</th>\n",
       "      <td>2924</td>\n",
       "      <td>5</td>\n",
       "      <td>media</td>\n",
       "      <td>24.0</td>\n",
       "      <td>Normale</td>\n",
       "    </tr>\n",
       "    <tr>\n",
       "      <th>2023-07-02</th>\n",
       "      <td>2987</td>\n",
       "      <td>6</td>\n",
       "      <td>--</td>\n",
       "      <td>--</td>\n",
       "      <td>--</td>\n",
       "    </tr>\n",
       "    <tr>\n",
       "      <th>2023-07-03</th>\n",
       "      <td>2544</td>\n",
       "      <td>0</td>\n",
       "      <td>--</td>\n",
       "      <td>--</td>\n",
       "      <td>--</td>\n",
       "    </tr>\n",
       "    <tr>\n",
       "      <th>2023-07-04</th>\n",
       "      <td>2547</td>\n",
       "      <td>1</td>\n",
       "      <td>molto bassa</td>\n",
       "      <td>23.0</td>\n",
       "      <td>Normale</td>\n",
       "    </tr>\n",
       "    <tr>\n",
       "      <th>2023-07-05</th>\n",
       "      <td>2762</td>\n",
       "      <td>2</td>\n",
       "      <td>--</td>\n",
       "      <td>--</td>\n",
       "      <td>--</td>\n",
       "    </tr>\n",
       "    <tr>\n",
       "      <th>...</th>\n",
       "      <td>...</td>\n",
       "      <td>...</td>\n",
       "      <td>...</td>\n",
       "      <td>...</td>\n",
       "      <td>...</td>\n",
       "    </tr>\n",
       "    <tr>\n",
       "      <th>2023-09-26</th>\n",
       "      <td>1183</td>\n",
       "      <td>1</td>\n",
       "      <td>--</td>\n",
       "      <td>--</td>\n",
       "      <td>--</td>\n",
       "    </tr>\n",
       "    <tr>\n",
       "      <th>2023-09-27</th>\n",
       "      <td>1070</td>\n",
       "      <td>2</td>\n",
       "      <td>--</td>\n",
       "      <td>--</td>\n",
       "      <td>--</td>\n",
       "    </tr>\n",
       "    <tr>\n",
       "      <th>2023-09-28</th>\n",
       "      <td>1083</td>\n",
       "      <td>3</td>\n",
       "      <td>--</td>\n",
       "      <td>--</td>\n",
       "      <td>--</td>\n",
       "    </tr>\n",
       "    <tr>\n",
       "      <th>2023-09-29</th>\n",
       "      <td>1526</td>\n",
       "      <td>4</td>\n",
       "      <td>--</td>\n",
       "      <td>23.0</td>\n",
       "      <td>Normale</td>\n",
       "    </tr>\n",
       "    <tr>\n",
       "      <th>2023-09-30</th>\n",
       "      <td>1915</td>\n",
       "      <td>5</td>\n",
       "      <td>--</td>\n",
       "      <td>24.0</td>\n",
       "      <td>Normale</td>\n",
       "    </tr>\n",
       "  </tbody>\n",
       "</table>\n",
       "<p>92 rows × 5 columns</p>\n",
       "</div>"
      ],
      "text/plain": [
       "            value  weakday probprec06-12  tmax tmax_group\n",
       "2023-07-01   2924        5         media  24.0    Normale\n",
       "2023-07-02   2987        6            --    --         --\n",
       "2023-07-03   2544        0            --    --         --\n",
       "2023-07-04   2547        1   molto bassa  23.0    Normale\n",
       "2023-07-05   2762        2            --    --         --\n",
       "...           ...      ...           ...   ...        ...\n",
       "2023-09-26   1183        1            --    --         --\n",
       "2023-09-27   1070        2            --    --         --\n",
       "2023-09-28   1083        3            --    --         --\n",
       "2023-09-29   1526        4            --  23.0    Normale\n",
       "2023-09-30   1915        5            --  24.0    Normale\n",
       "\n",
       "[92 rows x 5 columns]"
      ]
     },
     "execution_count": 447,
     "metadata": {},
     "output_type": "execute_result"
    }
   ],
   "source": [
    "tourist_attendences_meteo_df = pd.merge(tourist_attendences_df, meteo_df, how='outer', left_index=True, right_index=True).fillna('--')\n",
    "tourist_attendences_meteo_df"
   ]
  },
  {
   "cell_type": "code",
   "execution_count": 448,
   "id": "2e3464a2265c8a4d",
   "metadata": {
    "ExecuteTime": {
     "end_time": "2024-11-12T14:18:07.866431Z",
     "start_time": "2024-11-12T14:18:07.853616Z"
    }
   },
   "outputs": [
    {
     "data": {
      "text/html": [
       "<div>\n",
       "<style scoped>\n",
       "    .dataframe tbody tr th:only-of-type {\n",
       "        vertical-align: middle;\n",
       "    }\n",
       "\n",
       "    .dataframe tbody tr th {\n",
       "        vertical-align: top;\n",
       "    }\n",
       "\n",
       "    .dataframe thead th {\n",
       "        text-align: right;\n",
       "    }\n",
       "</style>\n",
       "<table border=\"1\" class=\"dataframe\">\n",
       "  <thead>\n",
       "    <tr style=\"text-align: right;\">\n",
       "      <th></th>\n",
       "      <th>value</th>\n",
       "      <th>weakday</th>\n",
       "      <th>probprec06-12</th>\n",
       "      <th>tmax</th>\n",
       "      <th>tmax_group</th>\n",
       "    </tr>\n",
       "  </thead>\n",
       "  <tbody>\n",
       "    <tr>\n",
       "      <th>2023-07-01</th>\n",
       "      <td>1944</td>\n",
       "      <td>5</td>\n",
       "      <td>media</td>\n",
       "      <td>24.0</td>\n",
       "      <td>Normale</td>\n",
       "    </tr>\n",
       "    <tr>\n",
       "      <th>2023-07-02</th>\n",
       "      <td>4300</td>\n",
       "      <td>6</td>\n",
       "      <td>--</td>\n",
       "      <td>--</td>\n",
       "      <td>--</td>\n",
       "    </tr>\n",
       "    <tr>\n",
       "      <th>2023-07-03</th>\n",
       "      <td>2413</td>\n",
       "      <td>0</td>\n",
       "      <td>--</td>\n",
       "      <td>--</td>\n",
       "      <td>--</td>\n",
       "    </tr>\n",
       "    <tr>\n",
       "      <th>2023-07-04</th>\n",
       "      <td>1958</td>\n",
       "      <td>1</td>\n",
       "      <td>molto bassa</td>\n",
       "      <td>23.0</td>\n",
       "      <td>Normale</td>\n",
       "    </tr>\n",
       "    <tr>\n",
       "      <th>2023-07-05</th>\n",
       "      <td>2167</td>\n",
       "      <td>2</td>\n",
       "      <td>--</td>\n",
       "      <td>--</td>\n",
       "      <td>--</td>\n",
       "    </tr>\n",
       "    <tr>\n",
       "      <th>...</th>\n",
       "      <td>...</td>\n",
       "      <td>...</td>\n",
       "      <td>...</td>\n",
       "      <td>...</td>\n",
       "      <td>...</td>\n",
       "    </tr>\n",
       "    <tr>\n",
       "      <th>2023-09-26</th>\n",
       "      <td>763</td>\n",
       "      <td>1</td>\n",
       "      <td>--</td>\n",
       "      <td>--</td>\n",
       "      <td>--</td>\n",
       "    </tr>\n",
       "    <tr>\n",
       "      <th>2023-09-27</th>\n",
       "      <td>899</td>\n",
       "      <td>2</td>\n",
       "      <td>--</td>\n",
       "      <td>--</td>\n",
       "      <td>--</td>\n",
       "    </tr>\n",
       "    <tr>\n",
       "      <th>2023-09-28</th>\n",
       "      <td>1089</td>\n",
       "      <td>3</td>\n",
       "      <td>--</td>\n",
       "      <td>--</td>\n",
       "      <td>--</td>\n",
       "    </tr>\n",
       "    <tr>\n",
       "      <th>2023-09-29</th>\n",
       "      <td>703</td>\n",
       "      <td>4</td>\n",
       "      <td>--</td>\n",
       "      <td>23.0</td>\n",
       "      <td>Normale</td>\n",
       "    </tr>\n",
       "    <tr>\n",
       "      <th>2023-09-30</th>\n",
       "      <td>1815</td>\n",
       "      <td>5</td>\n",
       "      <td>--</td>\n",
       "      <td>24.0</td>\n",
       "      <td>Normale</td>\n",
       "    </tr>\n",
       "  </tbody>\n",
       "</table>\n",
       "<p>92 rows × 5 columns</p>\n",
       "</div>"
      ],
      "text/plain": [
       "            value  weakday probprec06-12  tmax tmax_group\n",
       "2023-07-01   1944        5         media  24.0    Normale\n",
       "2023-07-02   4300        6            --    --         --\n",
       "2023-07-03   2413        0            --    --         --\n",
       "2023-07-04   1958        1   molto bassa  23.0    Normale\n",
       "2023-07-05   2167        2            --    --         --\n",
       "...           ...      ...           ...   ...        ...\n",
       "2023-09-26    763        1            --    --         --\n",
       "2023-09-27    899        2            --    --         --\n",
       "2023-09-28   1089        3            --    --         --\n",
       "2023-09-29    703        4            --  23.0    Normale\n",
       "2023-09-30   1815        5            --  24.0    Normale\n",
       "\n",
       "[92 rows x 5 columns]"
      ]
     },
     "execution_count": 448,
     "metadata": {},
     "output_type": "execute_result"
    }
   ],
   "source": [
    "excursionist_attendences_meteo_df = pd.merge(excursionist_attendences_df, meteo_df, how='outer', left_index=True, right_index=True).fillna('--')\n",
    "excursionist_attendences_meteo_df"
   ]
  },
  {
   "cell_type": "code",
   "execution_count": 449,
   "id": "93384563305e5496",
   "metadata": {
    "ExecuteTime": {
     "end_time": "2024-11-12T14:18:07.877818Z",
     "start_time": "2024-11-12T14:18:07.867070Z"
    }
   },
   "outputs": [],
   "source": [
    "def compute_stats(attendences_meteo_df):\n",
    "    presences_stats = {}\n",
    "    \n",
    "    sample = attendences_meteo_df[['value']]\n",
    "    (mean, std) = (sample.mean().value, sample.std().value)\n",
    "    presences_stats[-1, \"*\"] = {'mean':mean, 'std':std}\n",
    "    \n",
    "    for w in range(7):\n",
    "        sample = attendences_meteo_df[attendences_meteo_df['weakday']==w][['value']]\n",
    "        (mean, std) = (sample.mean().value, sample.std().value)\n",
    "        presences_stats[w, \"*\"] = {'mean':mean, 'std':std}\n",
    "        \n",
    "    for p in attendences_meteo_df[FEATURE].unique():\n",
    "        if p == '--': continue\n",
    "        sample = attendences_meteo_df[attendences_meteo_df[FEATURE]==p][['value']]\n",
    "        (mean, std) = (sample.mean().value, sample.std().value)\n",
    "        presences_stats[-1, p] = {'mean':mean, 'std':std}\n",
    "        \n",
    "        for w in range(7):\n",
    "            sample = attendences_meteo_df[(attendences_meteo_df['weakday']==w) &\n",
    "                 (attendences_meteo_df[FEATURE]==p)][['value']]\n",
    "            if len(sample) == 0:\n",
    "                (mean, std) = ((presences_stats[w, '*']['mean'] + presences_stats[-1,p]['mean']) * 0.5,\n",
    "                               (presences_stats[w, '*']['std'] * presences_stats[-1,p]['std']) ** 0.5)\n",
    "            elif len(sample) == 1:\n",
    "                (mean, std) =  (sample.mean().value,\n",
    "                                (presences_stats[w, '*']['std'] * presences_stats[-1,p]['std']) ** 0.5)\n",
    "            else:\n",
    "                (mean, std) = (sample.mean().value, sample.std().value)\n",
    "            presences_stats[w, p] = {'mean':mean, 'std':std}\n",
    "    \n",
    "    return presences_stats"
   ]
  },
  {
   "cell_type": "code",
   "execution_count": 450,
   "id": "c949fa550ef6eaf0",
   "metadata": {
    "ExecuteTime": {
     "end_time": "2024-11-12T14:18:07.923286Z",
     "start_time": "2024-11-12T14:18:07.878597Z"
    }
   },
   "outputs": [
    {
     "data": {
      "text/plain": [
       "{(-1, '*'): {'mean': 3292.75, 'std': 1127.9532044010873},\n",
       " (0, '*'): {'mean': 3037.4615384615386, 'std': 1171.188258094076},\n",
       " (1, '*'): {'mean': 2945.230769230769, 'std': 1117.096247259396},\n",
       " (2, '*'): {'mean': 3031.4615384615386, 'std': 1151.6471258871368},\n",
       " (3, '*'): {'mean': 3136.4615384615386, 'std': 1167.2054671582473},\n",
       " (4, '*'): {'mean': 3361.230769230769, 'std': 994.882920569564},\n",
       " (5, '*'): {'mean': 3858.5, 'std': 1151.389511717172},\n",
       " (6, '*'): {'mean': 3635.3846153846152, 'std': 1051.836927986902},\n",
       " (-1, 'Normale'): {'mean': 3333.2, 'std': 1071.7029283652569},\n",
       " (0, 'Normale'): {'mean': 2160.6666666666665, 'std': 1276.098089228776},\n",
       " (1, 'Normale'): {'mean': 2922.5, 'std': 531.0371926710972},\n",
       " (2, 'Normale'): {'mean': 2913.5, 'std': 770.0392847121502},\n",
       " (3, 'Normale'): {'mean': 3196.0, 'std': 441.23463146040564},\n",
       " (4, 'Normale'): {'mean': 3113.5, 'std': 1250.3531501139987},\n",
       " (5, 'Normale'): {'mean': 3841.3333333333335, 'std': 1071.537913468301},\n",
       " (6, 'Normale'): {'mean': 3919.3333333333335, 'std': 694.1227076917548},\n",
       " (-1, 'Caldo'): {'mean': 4406.571428571428, 'std': 671.5069979915685},\n",
       " (0, 'Caldo'): {'mean': 4385.333333333333, 'std': 564.2573290027639},\n",
       " (1, 'Caldo'): {'mean': 3635.0, 'std': 873.9839815465727},\n",
       " (2, 'Caldo'): {'mean': 3550.0, 'std': 879.3970117359332},\n",
       " (3, 'Caldo'): {'mean': 4873.0, 'std': 33.94112549695428},\n",
       " (4, 'Caldo'): {'mean': 4326.0, 'std': 611.6379648125188},\n",
       " (5, 'Caldo'): {'mean': 5038.5, 'std': 523.9661248592317},\n",
       " (6, 'Caldo'): {'mean': 4915.0, 'std': 840.4259978660573},\n",
       " (-1, 'Freddo'): {'mean': 2711.6923076923076, 'std': 1110.9926030818406},\n",
       " (0, 'Freddo'): {'mean': 3461.0, 'std': 1118.6429278371181},\n",
       " (1, 'Freddo'): {'mean': 1579.0, 'std': 1114.0402450700208},\n",
       " (2, 'Freddo'): {'mean': 2220.0, 'std': 639.224530192639},\n",
       " (3, 'Freddo'): {'mean': 1653.0, 'std': 1138.7522295431509},\n",
       " (4, 'Freddo'): {'mean': 2472.6666666666665, 'std': 610.6834968568688},\n",
       " (5, 'Freddo'): {'mean': 3489.0, 'std': 1600.8897526063436},\n",
       " (6, 'Freddo'): {'mean': 3131.0, 'std': 2025.153821318272}}"
      ]
     },
     "execution_count": 450,
     "metadata": {},
     "output_type": "execute_result"
    }
   ],
   "source": [
    "tourist_presences_stats = compute_stats(tourist_attendences_meteo_df)\n",
    "tourist_presences_stats"
   ]
  },
  {
   "cell_type": "code",
   "execution_count": 451,
   "id": "e1dd0860b4176405",
   "metadata": {
    "ExecuteTime": {
     "end_time": "2024-11-12T14:18:07.951848Z",
     "start_time": "2024-11-12T14:18:07.923957Z"
    }
   },
   "outputs": [
    {
     "data": {
      "text/plain": [
       "{(-1, '*'): {'mean': 3198.0760869565215, 'std': 1849.4465714155635},\n",
       " (0, '*'): {'mean': 2830.0, 'std': 2083.9047483030504},\n",
       " (1, '*'): {'mean': 2861.0, 'std': 2259.344189508687},\n",
       " (2, '*'): {'mean': 2746.230769230769, 'std': 1543.493070594863},\n",
       " (3, '*'): {'mean': 2810.3076923076924, 'std': 1691.1208011560157},\n",
       " (4, '*'): {'mean': 2940.153846153846, 'std': 1752.114714954182},\n",
       " (5, '*'): {'mean': 3690.5, 'std': 1471.7294771275576},\n",
       " (6, '*'): {'mean': 4470.461538461538, 'std': 1752.059388994592},\n",
       " (-1, 'Normale'): {'mean': 3176.28, 'std': 1629.0765154937728},\n",
       " (0, 'Normale'): {'mean': 1277.6666666666667, 'std': 474.21970997980816},\n",
       " (1, 'Normale'): {'mean': 1959.5, 'std': 2.1213203435596424},\n",
       " (2, 'Normale'): {'mean': 2767.5, 'std': 791.2524881477467},\n",
       " (3, 'Normale'): {'mean': 2047.0, 'std': 1165.3119753954304},\n",
       " (4, 'Normale'): {'mean': 3019.75, 'std': 1899.6405581056645},\n",
       " (5, 'Normale'): {'mean': 3816.222222222222, 'std': 1287.6763741113077},\n",
       " (6, 'Normale'): {'mean': 5200.333333333333, 'std': 1489.0608897333022},\n",
       " (-1, 'Caldo'): {'mean': 5094.357142857143, 'std': 1363.0423892693343},\n",
       " (0, 'Caldo'): {'mean': 5717.333333333333, 'std': 1373.3864471929717},\n",
       " (1, 'Caldo'): {'mean': 4285.5, 'std': 1864.6405819889258},\n",
       " (2, 'Caldo'): {'mean': 2876.0, 'std': 1450.4642300878306},\n",
       " (3, 'Caldo'): {'mean': 5778.5, 'std': 40.30508652763321},\n",
       " (4, 'Caldo'): {'mean': 4789.333333333333, 'std': 1517.4403887248202},\n",
       " (5, 'Caldo'): {'mean': 5307.5, 'std': 1553.5135982668448},\n",
       " (6, 'Caldo'): {'mean': 6182.0, 'std': 1545.357957146809},\n",
       " (-1, 'Freddo'): {'mean': 2085.5384615384614, 'std': 1288.6678273437142},\n",
       " (0, 'Freddo'): {'mean': 2693.5, 'std': 2536.392024116146},\n",
       " (1, 'Freddo'): {'mean': 1253.0, 'std': 1706.3247545282243},\n",
       " (2, 'Freddo'): {'mean': 1797.5, 'std': 949.6444071335334},\n",
       " (3, 'Freddo'): {'mean': 1114.0, 'std': 1476.2428555632314},\n",
       " (4, 'Freddo'): {'mean': 1362.0, 'std': 913.637236544133},\n",
       " (5, 'Freddo'): {'mean': 2554.5, 'std': 379.716341497176},\n",
       " (6, 'Freddo'): {'mean': 3284.0, 'std': 1831.406563273158}}"
      ]
     },
     "execution_count": 451,
     "metadata": {},
     "output_type": "execute_result"
    }
   ],
   "source": [
    "excursionist_presences_stats = compute_stats(excursionist_attendences_meteo_df)\n",
    "excursionist_presences_stats"
   ]
  },
  {
   "cell_type": "code",
   "execution_count": 452,
   "id": "7b7ead3e4ec20551",
   "metadata": {
    "ExecuteTime": {
     "end_time": "2024-11-12T14:18:07.962727Z",
     "start_time": "2024-11-12T14:18:07.952618Z"
    }
   },
   "outputs": [],
   "source": [
    "from scipy.stats import truncnorm"
   ]
  },
  {
   "cell_type": "code",
   "execution_count": 453,
   "id": "b262a197cf74bffa",
   "metadata": {
    "ExecuteTime": {
     "end_time": "2024-11-12T14:18:07.975632Z",
     "start_time": "2024-11-12T14:18:07.963313Z"
    }
   },
   "outputs": [],
   "source": [
    "tourist_sample_w = {}\n",
    "excursionist_sample_w = {}\n",
    "sample_size = 100\n",
    "\n",
    "for w in range(-1,7):\n",
    "    stats = tourist_presences_stats[w,'*']\n",
    "    tourist_sample_w[w] = truncnorm.rvs(-stats['mean'] / stats['std'], 10, loc=stats['mean'], scale=stats['std'], size=sample_size)\n",
    "    stats = excursionist_presences_stats[w,'*']\n",
    "    excursionist_sample_w[w] = truncnorm.rvs(-stats['mean'] / stats['std'], 10, loc=stats['mean'], scale=stats['std'], size=sample_size)"
   ]
  },
  {
   "cell_type": "code",
   "execution_count": 454,
   "id": "6123632c2cf23658",
   "metadata": {
    "ExecuteTime": {
     "end_time": "2024-11-12T14:18:07.991761Z",
     "start_time": "2024-11-12T14:18:07.976181Z"
    }
   },
   "outputs": [],
   "source": [
    "import matplotlib.pyplot as plt"
   ]
  },
  {
   "cell_type": "code",
   "execution_count": 455,
   "id": "94ef59c3d7c845d2",
   "metadata": {
    "ExecuteTime": {
     "end_time": "2024-11-12T14:18:08.086560Z",
     "start_time": "2024-11-12T14:18:07.992339Z"
    }
   },
   "outputs": [
    {
     "data": {
      "image/png": "[encoded data removed]",
      "text/plain": [
       "<Figure size 640x480 with 1 Axes>"
      ]
     },
     "metadata": {},
     "output_type": "display_data"
    }
   ],
   "source": [
    "plt.scatter(tourist_sample_w[-1], excursionist_sample_w[-1]);"
   ]
  },
  {
   "cell_type": "code",
   "execution_count": 456,
   "id": "60f93cb0bd0ed7cf",
   "metadata": {
    "ExecuteTime": {
     "end_time": "2024-11-12T14:18:08.199039Z",
     "start_time": "2024-11-12T14:18:08.087357Z"
    }
   },
   "outputs": [
    {
     "data": {
      "image/png": "[encoded data removed]",
      "text/plain": [
       "<Figure size 640x480 with 1 Axes>"
      ]
     },
     "metadata": {},
     "output_type": "display_data"
    }
   ],
   "source": [
    "for w in range(7):\n",
    "    plt.scatter(tourist_sample_w[w], excursionist_sample_w[w]);"
   ]
  },
  {
   "cell_type": "code",
   "execution_count": 457,
   "id": "78f7146d3c327cf0",
   "metadata": {
    "ExecuteTime": {
     "end_time": "2024-11-12T14:18:08.205285Z",
     "start_time": "2024-11-12T14:18:08.199973Z"
    }
   },
   "outputs": [],
   "source": [
    "tourist_sample_p = {}\n",
    "excursionist_sample_p = {}\n",
    "sample_size = 100\n",
    "\n",
    "for p in meteo_dist.keys():\n",
    "    stats = tourist_presences_stats[-1, p]\n",
    "    tourist_sample_p[p] = truncnorm.rvs(-stats['mean'] / stats['std'], 10, loc=stats['mean'], scale=stats['std'], size=sample_size)\n",
    "    stats = excursionist_presences_stats[-1, p]\n",
    "    excursionist_sample_p[p] = truncnorm.rvs(-stats['mean'] / stats['std'], 10, loc=stats['mean'], scale=stats['std'], size=sample_size)"
   ]
  },
  {
   "cell_type": "code",
   "execution_count": 460,
   "id": "a790d21c-5e8e-4c3f-8891-7cf7c2fc5aed",
   "metadata": {},
   "outputs": [
    {
     "data": {
      "text/plain": [
       "dict_keys(['Normale', 'Caldo', 'Freddo'])"
      ]
     },
     "execution_count": 460,
     "metadata": {},
     "output_type": "execute_result"
    }
   ],
   "source": [
    "meteo_dist.keys()"
   ]
  },
  {
   "cell_type": "code",
   "execution_count": 461,
   "id": "4265ffaca8596e1f",
   "metadata": {
    "ExecuteTime": {
     "end_time": "2024-11-12T14:18:08.414796Z",
     "start_time": "2024-11-12T14:18:08.206375Z"
    }
   },
   "outputs": [
    {
     "data": {
      "image/png": "[encoded data removed]",
      "text/plain": [
       "<Figure size 640x480 with 1 Axes>"
      ]
     },
     "metadata": {},
     "output_type": "display_data"
    }
   ],
   "source": [
    "plt.scatter(tourist_sample_w[-1], excursionist_sample_w[-1], label='ALL')\n",
    "for p in meteo_dist.keys():\n",
    "    plt.scatter(tourist_sample_p[p], excursionist_sample_p[p], label=p)\n",
    "    plt.legend()"
   ]
  },
  {
   "cell_type": "code",
   "execution_count": 462,
   "id": "3f2ff05d15f0c2de",
   "metadata": {
    "ExecuteTime": {
     "end_time": "2024-11-12T14:18:08.419060Z",
     "start_time": "2024-11-12T14:18:08.415929Z"
    }
   },
   "outputs": [
    {
     "data": {
      "text/plain": [
       "{'Normale': 0.4807692307692308, 'Caldo': 0.2692307692307692, 'Freddo': 0.25}"
      ]
     },
     "execution_count": 462,
     "metadata": {},
     "output_type": "execute_result"
    }
   ],
   "source": [
    "meteo_dist"
   ]
  },
  {
   "cell_type": "code",
   "execution_count": null,
   "id": "f7afa7918af11cdf",
   "metadata": {
    "ExecuteTime": {
     "end_time": "2024-11-12T14:18:08.421537Z",
     "start_time": "2024-11-12T14:18:08.419877Z"
    }
   },
   "outputs": [],
   "source": []
  },
  {
   "cell_type": "code",
   "execution_count": null,
   "id": "ef6ec1d1-293a-4587-834c-8fc3aa943a31",
   "metadata": {},
   "outputs": [],
   "source": []
  }
 ],
 "metadata": {
  "kernelspec": {
   "display_name": "Python 3 (ipykernel)",
   "language": "python",
   "name": "python3"
  },
  "language_info": {
   "codemirror_mode": {
    "name": "ipython",
    "version": 3
   },
   "file_extension": ".py",
   "mimetype": "text/x-python",
   "name": "python",
   "nbconvert_exporter": "python",
   "pygments_lexer": "ipython3",
   "version": "3.10.11"
  }
 },
 "nbformat": 4,
 "nbformat_minor": 5
}
