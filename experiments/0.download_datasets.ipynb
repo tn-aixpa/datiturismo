{
 "cells": [
  {
   "cell_type": "code",
   "execution_count": 23,
   "id": "8a424d92-30af-4a19-bdfa-d7c543ab67f9",
   "metadata": {},
   "outputs": [],
   "source": [
    "import pandas as pd\n",
    "from minio import Minio"
   ]
  },
  {
   "cell_type": "markdown",
   "id": "d64be3cd-21ee-4cab-af17-8605a2d84d6b",
   "metadata": {},
   "source": [
    "# Download overtourism datasets from the minio bucket"
   ]
  },
  {
   "cell_type": "code",
   "execution_count": 19,
   "id": "45aa52f1-95d5-45d8-93f7-731b553da05a",
   "metadata": {},
   "outputs": [],
   "source": []
  },
  {
   "cell_type": "code",
   "execution_count": 20,
   "id": "ffd79615-e706-4444-8f9d-4cb492eb7250",
   "metadata": {},
   "outputs": [],
   "source": [
    "minio_client = Minio(\n",
    "    \"minio-api.digitalhub-test.smartcommunitylab.it\",\n",
    "    access_key=\"AK\",\n",
    "    secret_key=\"SK\"\n",
    ")"
   ]
  },
  {
   "cell_type": "code",
   "execution_count": 22,
   "id": "5dd70bb3-d578-4a8a-a764-dadda945ef6d",
   "metadata": {},
   "outputs": [],
   "source": [
    "objects = minio_client.list_objects(\"datalake\", prefix=\"projects/tourism\", recursive=True)\n",
    "for obj in objects:\n",
    "    # download dataset locally\n",
    "    minio_client.fget_object(obj.bucket_name, obj.object_name, f\"datasets/{obj.object_name[len('projects/tourism/'):]}\")\n"
   ]
  },
  {
   "cell_type": "code",
   "execution_count": null,
   "id": "5df5ac32-3690-438b-82e1-ebd801dbc017",
   "metadata": {},
   "outputs": [],
   "source": []
  }
 ],
 "metadata": {
  "kernelspec": {
   "display_name": "digitalhub-core",
   "language": "python",
   "name": "digitalhub-core"
  },
  "language_info": {
   "codemirror_mode": {
    "name": "ipython",
    "version": 3
   },
   "file_extension": ".py",
   "mimetype": "text/x-python",
   "name": "python",
   "nbconvert_exporter": "python",
   "pygments_lexer": "ipython3",
   "version": "3.9.19"
  }
 },
 "nbformat": 4,
 "nbformat_minor": 5
}
